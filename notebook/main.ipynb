{
 "cells": [
  {
   "cell_type": "code",
   "execution_count": 1,
   "metadata": {},
   "outputs": [],
   "source": [
    "from bs4 import BeautifulSoup\n",
    "import requests\n",
    "import pandas as pd\n",
    "import re\n",
    "\n",
    "URL = \"https://www.espncricinfo.com/series/indian-premier-league-2023-1345038/match-schedule-fixtures-and-results\"\n",
    "\n",
    "def get_page(url):\n",
    "    return requests.get(url).content\n",
    "\n",
    "def get_soup(page):\n",
    "    return BeautifulSoup(page, 'lxml')\n",
    "\n",
    "def get_card(soup):\n",
    "    return soup.find_all(class_=re.compile('ds-p-4 hover:ds-bg-ui-fill-translucent'))\n",
    "\n",
    "def get_each_card_href(cards):\n",
    "    return [card.find('a') ['href'] for card in cards]\n",
    "\n",
    "def scrape_links_main_page():\n",
    "    web = get_page(URL)\n",
    "    soup = get_soup(web)\n",
    "    cards = get_card(soup)\n",
    "    return  ['https://www.espncricinfo.com/' + link for link in get_each_card_href(cards)]\n",
    "\n",
    "def get_stats_table(soup):\n",
    "    tables = soup.find_all('table', class_=re.compile('ds-w-full ds-table ds-table-md ds-table-auto'))\n",
    "    headers = tables.find_all('th', class_='ds-w-0 ds-whitespace-nowrap ds-min-w-max ds-text-left')\n",
    "\n",
    "    for header in headers:\n",
    "        if header.text.strip() == 'BATTING':\n",
    "            table = header.find_parent('table')\n",
    "\n",
    "\n",
    "\n",
    "def get_table_rows(table):\n",
    "    td_tags = table.find_all('td', )\n",
    "\n",
    "    \n",
    "def scrape_info_each_link(links):\n",
    "    for link in links:\n",
    "        try:\n",
    "            print(link)\n",
    "            web = get_page(link)\n",
    "            soup = get_soup(web)\n",
    "            print(get_stats_table(soup))\n",
    "        except:\n",
    "            print('date note here')\n",
    "\n",
    "\n",
    "\n"
   ]
  },
  {
   "cell_type": "code",
   "execution_count": 35,
   "metadata": {},
   "outputs": [],
   "source": [
    "link = 'https://www.espncricinfo.com/series/indian-premier-league-2022-1298423/chennai-super-kings-vs-kolkata-knight-riders-1st-match-1304047/full-scorecard'\n",
    "web = get_page(link)\n",
    "soup = get_soup(web)\n"
   ]
  },
  {
   "cell_type": "code",
   "execution_count": 10,
   "metadata": {},
   "outputs": [
    {
     "data": {
      "text/plain": [
       "[<table class=\"ds-w-full ds-table ds-table-md ds-table-auto ci-scorecard-table\"><thead class=\"ds-bg-fill-content-alternate ds-text-left\"><tr class=\"ds-text-right\"><th class=\"ds-w-0 ds-whitespace-nowrap ds-min-w-max ds-text-left\">BATTING</th><th class=\"ds-min-w-max\"> </th><th class=\"ds-w-0 ds-whitespace-nowrap ds-min-w-max\">R</th><th class=\"ds-w-0 ds-whitespace-nowrap ds-min-w-max\">B</th><th class=\"ds-w-0 ds-whitespace-nowrap ds-min-w-max\">M</th><th class=\"ds-w-0 ds-whitespace-nowrap ds-min-w-max\">4s</th><th class=\"ds-w-0 ds-whitespace-nowrap ds-min-w-max\">6s</th><th class=\"ds-w-0 ds-whitespace-nowrap ds-min-w-max\">SR</th></tr></thead><tbody class=\"\"><tr class=\"\"><td class=\"ds-w-0 ds-whitespace-nowrap ds-min-w-max ds-flex ds-items-center\"><a class=\"ds-inline-flex ds-items-start ds-leading-none\" href=\"/cricketers/ruturaj-gaikwad-1060380\" title=\"Ruturaj Gaikwad\"><span class=\"ds-text-tight-s ds-font-medium ds-text-typo ds-underline ds-decoration-ui-stroke hover:ds-text-typo-primary hover:ds-decoration-ui-stroke-primary ds-block\"><span>Ruturaj Gaikwad<!-- --> </span></span></a></td><td class=\"ds-min-w-max !ds-pl-[100px]\"><span class=\"ds-flex ds-cursor-pointer ds-items-center\"><i class=\"icon-keyboard_arrow_down-outlined ds-text-icon-primary ds-inline-flex ds-items-center\" style=\"font-size:16px\"></i><span>c Rana b Yadav</span></span></td><td class=\"ds-w-0 ds-whitespace-nowrap ds-min-w-max ds-text-right\"><strong>0</strong></td><td class=\"ds-w-0 ds-whitespace-nowrap ds-min-w-max ds-text-right\">4</td><td class=\"ds-w-0 ds-whitespace-nowrap ds-min-w-max ds-text-right\">5</td><td class=\"ds-w-0 ds-whitespace-nowrap ds-min-w-max ds-text-right\">0</td><td class=\"ds-w-0 ds-whitespace-nowrap ds-min-w-max ds-text-right\">0</td><td class=\"ds-w-0 ds-whitespace-nowrap ds-min-w-max ds-text-right\">0.00</td></tr><tr class=\"ds-hidden\"><td class=\"\" colspan=\"9\"></td></tr><tr class=\"\"><td class=\"ds-w-0 ds-whitespace-nowrap ds-min-w-max ds-flex ds-items-center\"><a class=\"ds-inline-flex ds-items-start ds-leading-none\" href=\"/cricketers/devon-conway-379140\" title=\"Devon Conway\"><span class=\"ds-text-tight-s ds-font-medium ds-text-typo ds-underline ds-decoration-ui-stroke hover:ds-text-typo-primary hover:ds-decoration-ui-stroke-primary ds-block\"><span>Devon Conway<!-- --> </span></span></a></td><td class=\"ds-min-w-max !ds-pl-[100px]\"><span class=\"ds-flex ds-cursor-pointer ds-items-center\"><i class=\"icon-keyboard_arrow_down-outlined ds-text-icon-primary ds-inline-flex ds-items-center\" style=\"font-size:16px\"></i><span>c SS Iyer b Yadav</span></span></td><td class=\"ds-w-0 ds-whitespace-nowrap ds-min-w-max ds-text-right\"><strong>3</strong></td><td class=\"ds-w-0 ds-whitespace-nowrap ds-min-w-max ds-text-right\">8</td><td class=\"ds-w-0 ds-whitespace-nowrap ds-min-w-max ds-text-right\">25</td><td class=\"ds-w-0 ds-whitespace-nowrap ds-min-w-max ds-text-right\">0</td><td class=\"ds-w-0 ds-whitespace-nowrap ds-min-w-max ds-text-right\">0</td><td class=\"ds-w-0 ds-whitespace-nowrap ds-min-w-max ds-text-right\">37.50</td></tr><tr class=\"ds-hidden\"><td class=\"\" colspan=\"9\"></td></tr><tr class=\"\"><td class=\"ds-w-0 ds-whitespace-nowrap ds-min-w-max ds-flex ds-items-center\"><a class=\"ds-inline-flex ds-items-start ds-leading-none\" href=\"/cricketers/robin-uthappa-35582\" title=\"Robin Uthappa\"><span class=\"ds-text-tight-s ds-font-medium ds-text-typo ds-underline ds-decoration-ui-stroke hover:ds-text-typo-primary hover:ds-decoration-ui-stroke-primary ds-block\"><span>Robin Uthappa<!-- --> </span></span></a></td><td class=\"ds-min-w-max !ds-pl-[100px]\"><span class=\"ds-flex ds-cursor-pointer ds-items-center\"><i class=\"icon-keyboard_arrow_down-outlined ds-text-icon-primary ds-inline-flex ds-items-center\" style=\"font-size:16px\"></i><span>st †Jackson b Varun</span></span></td><td class=\"ds-w-0 ds-whitespace-nowrap ds-min-w-max ds-text-right\"><strong>28</strong></td><td class=\"ds-w-0 ds-whitespace-nowrap ds-min-w-max ds-text-right\">21</td><td class=\"ds-w-0 ds-whitespace-nowrap ds-min-w-max ds-text-right\">37</td><td class=\"ds-w-0 ds-whitespace-nowrap ds-min-w-max ds-text-right\">2</td><td class=\"ds-w-0 ds-whitespace-nowrap ds-min-w-max ds-text-right\">2</td><td class=\"ds-w-0 ds-whitespace-nowrap ds-min-w-max ds-text-right\">133.33</td></tr><tr class=\"ds-hidden\"><td class=\"\" colspan=\"9\"></td></tr><tr class=\"\"><td class=\"ds-w-0 ds-whitespace-nowrap ds-min-w-max ds-flex ds-items-center\"><a class=\"ds-inline-flex ds-items-start ds-leading-none\" href=\"/cricketers/ambati-rayudu-33141\" title=\"Ambati Rayudu\"><span class=\"ds-text-tight-s ds-font-medium ds-text-typo ds-underline ds-decoration-ui-stroke hover:ds-text-typo-primary hover:ds-decoration-ui-stroke-primary ds-block\"><span>Ambati Rayudu<!-- --> </span></span></a></td><td class=\"ds-min-w-max !ds-pl-[100px]\"><span class=\"ds-flex ds-cursor-pointer ds-items-center\"><i class=\"icon-keyboard_arrow_down-outlined ds-text-icon-primary ds-inline-flex ds-items-center\" style=\"font-size:16px\"></i><span>run out (SS Iyer/Narine)</span></span></td><td class=\"ds-w-0 ds-whitespace-nowrap ds-min-w-max ds-text-right\"><strong>15</strong></td><td class=\"ds-w-0 ds-whitespace-nowrap ds-min-w-max ds-text-right\">17</td><td class=\"ds-w-0 ds-whitespace-nowrap ds-min-w-max ds-text-right\">22</td><td class=\"ds-w-0 ds-whitespace-nowrap ds-min-w-max ds-text-right\">1</td><td class=\"ds-w-0 ds-whitespace-nowrap ds-min-w-max ds-text-right\">1</td><td class=\"ds-w-0 ds-whitespace-nowrap ds-min-w-max ds-text-right\">88.23</td></tr><tr class=\"ds-hidden\"><td class=\"\" colspan=\"9\"></td></tr><tr class=\"\"><td class=\"ds-w-0 ds-whitespace-nowrap ds-min-w-max ds-flex ds-items-center ds-border-line-primary ci-scorecard-player-notout\"><a class=\"ds-inline-flex ds-items-start ds-leading-none\" href=\"/cricketers/ravindra-jadeja-234675\" title=\"Ravindra Jadeja\"><span class=\"ds-text-tight-s ds-font-medium ds-text-typo ds-underline ds-decoration-ui-stroke hover:ds-text-typo-primary hover:ds-decoration-ui-stroke-primary ds-block\"><span>Ravindra Jadeja<!-- --> <span>(c)</span></span></span></a></td><td class=\"ds-min-w-max !ds-pl-[100px]\">not out </td><td class=\"ds-w-0 ds-whitespace-nowrap ds-min-w-max ds-text-right\"><strong>26</strong></td><td class=\"ds-w-0 ds-whitespace-nowrap ds-min-w-max ds-text-right\">28</td><td class=\"ds-w-0 ds-whitespace-nowrap ds-min-w-max ds-text-right\">63</td><td class=\"ds-w-0 ds-whitespace-nowrap ds-min-w-max ds-text-right\">0</td><td class=\"ds-w-0 ds-whitespace-nowrap ds-min-w-max ds-text-right\">1</td><td class=\"ds-w-0 ds-whitespace-nowrap ds-min-w-max ds-text-right\">92.85</td></tr><tr class=\"\"><td class=\"ds-w-0 ds-whitespace-nowrap ds-min-w-max ds-flex ds-items-center\"><a class=\"ds-inline-flex ds-items-start ds-leading-none\" href=\"/cricketers/shivam-dube-714451\" title=\"Shivam Dube\"><span class=\"ds-text-tight-s ds-font-medium ds-text-typo ds-underline ds-decoration-ui-stroke hover:ds-text-typo-primary hover:ds-decoration-ui-stroke-primary ds-block\"><span>Shivam Dube<!-- --> </span></span></a></td><td class=\"ds-min-w-max !ds-pl-[100px]\"><span class=\"ds-flex ds-cursor-pointer ds-items-center\"><i class=\"icon-keyboard_arrow_down-outlined ds-text-icon-primary ds-inline-flex ds-items-center\" style=\"font-size:16px\"></i><span>c Narine b Russell</span></span></td><td class=\"ds-w-0 ds-whitespace-nowrap ds-min-w-max ds-text-right\"><strong>3</strong></td><td class=\"ds-w-0 ds-whitespace-nowrap ds-min-w-max ds-text-right\">6</td><td class=\"ds-w-0 ds-whitespace-nowrap ds-min-w-max ds-text-right\">11</td><td class=\"ds-w-0 ds-whitespace-nowrap ds-min-w-max ds-text-right\">0</td><td class=\"ds-w-0 ds-whitespace-nowrap ds-min-w-max ds-text-right\">0</td><td class=\"ds-w-0 ds-whitespace-nowrap ds-min-w-max ds-text-right\">50.00</td></tr><tr class=\"ds-hidden\"><td class=\"\" colspan=\"9\"></td></tr><tr class=\"\"><td class=\"ds-w-0 ds-whitespace-nowrap ds-min-w-max ds-flex ds-items-center ds-border-line-primary ci-scorecard-player-notout\"><a class=\"ds-inline-flex ds-items-start ds-leading-none\" href=\"/cricketers/ms-dhoni-28081\" title=\"MS Dhoni\"><span class=\"ds-text-tight-s ds-font-medium ds-text-typo ds-underline ds-decoration-ui-stroke hover:ds-text-typo-primary hover:ds-decoration-ui-stroke-primary ds-block\"><span>MS Dhoni<!-- --> <span>†</span></span></span></a></td><td class=\"ds-min-w-max !ds-pl-[100px]\">not out </td><td class=\"ds-w-0 ds-whitespace-nowrap ds-min-w-max ds-text-right\"><strong>50</strong></td><td class=\"ds-w-0 ds-whitespace-nowrap ds-min-w-max ds-text-right\">38</td><td class=\"ds-w-0 ds-whitespace-nowrap ds-min-w-max ds-text-right\">47</td><td class=\"ds-w-0 ds-whitespace-nowrap ds-min-w-max ds-text-right\">7</td><td class=\"ds-w-0 ds-whitespace-nowrap ds-min-w-max ds-text-right\">1</td><td class=\"ds-w-0 ds-whitespace-nowrap ds-min-w-max ds-text-right\">131.57</td></tr><tr class=\"ds-text-tight-s\"><td class=\"ds-min-w-max\" colspan=\"1\">Extras</td><td class=\"ds-min-w-max !ds-pl-[100px]\">(nb 2, w 4)</td><td class=\"ds-min-w-max ds-text-right\" colspan=\"1\"><strong>6</strong></td><td class=\"ds-text-right\" colspan=\"7\"></td></tr><tr class=\"\"><td class=\"ds-font-bold ds-bg-fill-content-alternate ds-text-tight-m ds-min-w-max\" colspan=\"1\">TOTAL</td><td class=\"ds-font-bold ds-bg-fill-content-alternate ds-text-tight-m ds-min-w-max ds-flex ds-items-center !ds-pl-[100px]\"><span class=\"ds-font-regular ds-text-tight-s\">20 Ov</span><span class=\"ds-font-regular ds-text-tight-s\"> <!-- -->(RR: 6.55)</span><i class=\"icon-blank_placeholder ds-text-icon\" style=\"font-size:20px\"></i></td><td class=\"ds-font-bold ds-bg-fill-content-alternate ds-text-tight-m ds-min-w-max ds-text-right\" colspan=\"1\">131<!-- -->/5</td><td class=\"ds-font-bold ds-bg-fill-content-alternate ds-text-tight-m ds-text-right !ds-font-regular\" colspan=\"7\"><div></div></td></tr><tr class=\"!ds-border-b-0\"><td class=\"!ds-py-2\" colspan=\"9\"><div class=\"ds-text-tight-s ds-font-regular ds-leading-4\"><strong>Did not bat: </strong><a class=\"ds-inline-flex ds-items-start ds-leading-none\" href=\"/cricketers/dwayne-bravo-51439\"><span class=\"ds-text-tight-s ds-font-medium ds-text-typo ds-underline ds-decoration-ui-stroke hover:ds-text-typo-primary hover:ds-decoration-ui-stroke-primary ds-block ds-mr-1\"><span>Dwayne Bravo<!-- -->,<!-- --> </span></span></a><a class=\"ds-inline-flex ds-items-start ds-leading-none\" href=\"/cricketers/mitchell-santner-502714\"><span class=\"ds-text-tight-s ds-font-medium ds-text-typo ds-underline ds-decoration-ui-stroke hover:ds-text-typo-primary hover:ds-decoration-ui-stroke-primary ds-block ds-mr-1\"><span>Mitchell Santner<!-- -->,<!-- --> </span></span></a><a class=\"ds-inline-flex ds-items-start ds-leading-none\" href=\"/cricketers/adam-milne-450860\"><span class=\"ds-text-tight-s ds-font-medium ds-text-typo ds-underline ds-decoration-ui-stroke hover:ds-text-typo-primary hover:ds-decoration-ui-stroke-primary ds-block ds-mr-1\"><span>Adam Milne<!-- -->,<!-- --> </span></span></a><a class=\"ds-inline-flex ds-items-start ds-leading-none\" href=\"/cricketers/tushar-deshpande-822553\"><span class=\"ds-text-tight-s ds-font-medium ds-text-typo ds-underline ds-decoration-ui-stroke hover:ds-text-typo-primary hover:ds-decoration-ui-stroke-primary ds-block ds-mr-1\"><span>Tushar Deshpande<!-- --> </span></span></a></div></td></tr><tr class=\"\"><td class=\"\" colspan=\"9\"><div class=\"ds-text-tight-s ds-font-regular ds-leading-4\"><strong>Fall of wickets<!-- -->: </strong><span>1<!-- -->-<!-- -->2<!-- --> (<!-- -->Ruturaj Gaikwad<!-- -->, 0.3 ov<!-- -->)</span><span>, <!-- -->2<!-- -->-<!-- -->28<!-- --> (<!-- -->Devon Conway<!-- -->, 4.1 ov<!-- -->)</span><span>, <!-- -->3<!-- -->-<!-- -->49<!-- --> (<!-- -->Robin Uthappa<!-- -->, 7.5 ov<!-- -->)</span><span>, <!-- -->4<!-- -->-<!-- -->52<!-- --> (<!-- -->Ambati Rayudu<!-- -->, 8.4 ov<!-- -->)</span><span>, <!-- -->5<!-- -->-<!-- -->61<!-- --> (<!-- -->Shivam Dube<!-- -->, 10.5 ov<!-- -->)</span></div></td></tr></tbody></table>,\n",
       " <table class=\"ds-w-full ds-table ds-table-md ds-table-auto ci-scorecard-table\"><thead class=\"ds-bg-fill-content-alternate ds-text-left\"><tr class=\"ds-text-right\"><th class=\"ds-w-0 ds-whitespace-nowrap ds-min-w-max ds-text-left\">BATTING</th><th class=\"ds-min-w-max\"> </th><th class=\"ds-w-0 ds-whitespace-nowrap ds-min-w-max\">R</th><th class=\"ds-w-0 ds-whitespace-nowrap ds-min-w-max\">B</th><th class=\"ds-w-0 ds-whitespace-nowrap ds-min-w-max\">M</th><th class=\"ds-w-0 ds-whitespace-nowrap ds-min-w-max\">4s</th><th class=\"ds-w-0 ds-whitespace-nowrap ds-min-w-max\">6s</th><th class=\"ds-w-0 ds-whitespace-nowrap ds-min-w-max\">SR</th></tr></thead><tbody class=\"\"><tr class=\"\"><td class=\"ds-w-0 ds-whitespace-nowrap ds-min-w-max ds-flex ds-items-center\"><a class=\"ds-inline-flex ds-items-start ds-leading-none\" href=\"/cricketers/ajinkya-rahane-277916\" title=\"Ajinkya Rahane\"><span class=\"ds-text-tight-s ds-font-medium ds-text-typo ds-underline ds-decoration-ui-stroke hover:ds-text-typo-primary hover:ds-decoration-ui-stroke-primary ds-block\"><span>Ajinkya Rahane<!-- --> </span></span></a></td><td class=\"ds-min-w-max !ds-pl-[100px]\"><span class=\"ds-flex ds-cursor-pointer ds-items-center\"><i class=\"icon-keyboard_arrow_down-outlined ds-text-icon-primary ds-inline-flex ds-items-center\" style=\"font-size:16px\"></i><span>c Jadeja b Santner</span></span></td><td class=\"ds-w-0 ds-whitespace-nowrap ds-min-w-max ds-text-right\"><strong>44</strong></td><td class=\"ds-w-0 ds-whitespace-nowrap ds-min-w-max ds-text-right\">34</td><td class=\"ds-w-0 ds-whitespace-nowrap ds-min-w-max ds-text-right\">56</td><td class=\"ds-w-0 ds-whitespace-nowrap ds-min-w-max ds-text-right\">6</td><td class=\"ds-w-0 ds-whitespace-nowrap ds-min-w-max ds-text-right\">1</td><td class=\"ds-w-0 ds-whitespace-nowrap ds-min-w-max ds-text-right\">129.41</td></tr><tr class=\"ds-hidden\"><td class=\"\" colspan=\"9\"></td></tr><tr class=\"\"><td class=\"ds-w-0 ds-whitespace-nowrap ds-min-w-max ds-flex ds-items-center\"><a class=\"ds-inline-flex ds-items-start ds-leading-none\" href=\"/cricketers/venkatesh-iyer-851403\" title=\"Venkatesh Iyer\"><span class=\"ds-text-tight-s ds-font-medium ds-text-typo ds-underline ds-decoration-ui-stroke hover:ds-text-typo-primary hover:ds-decoration-ui-stroke-primary ds-block\"><span>Venkatesh Iyer<!-- --> </span></span></a></td><td class=\"ds-min-w-max !ds-pl-[100px]\"><span class=\"ds-flex ds-cursor-pointer ds-items-center\"><i class=\"icon-keyboard_arrow_down-outlined ds-text-icon-primary ds-inline-flex ds-items-center\" style=\"font-size:16px\"></i><span>c †Dhoni b Bravo</span></span></td><td class=\"ds-w-0 ds-whitespace-nowrap ds-min-w-max ds-text-right\"><strong>16</strong></td><td class=\"ds-w-0 ds-whitespace-nowrap ds-min-w-max ds-text-right\">16</td><td class=\"ds-w-0 ds-whitespace-nowrap ds-min-w-max ds-text-right\">31</td><td class=\"ds-w-0 ds-whitespace-nowrap ds-min-w-max ds-text-right\">2</td><td class=\"ds-w-0 ds-whitespace-nowrap ds-min-w-max ds-text-right\">0</td><td class=\"ds-w-0 ds-whitespace-nowrap ds-min-w-max ds-text-right\">100.00</td></tr><tr class=\"ds-hidden\"><td class=\"\" colspan=\"9\"></td></tr><tr class=\"\"><td class=\"ds-w-0 ds-whitespace-nowrap ds-min-w-max ds-flex ds-items-center\"><a class=\"ds-inline-flex ds-items-start ds-leading-none\" href=\"/cricketers/nitish-rana-604527\" title=\"Nitish Rana\"><span class=\"ds-text-tight-s ds-font-medium ds-text-typo ds-underline ds-decoration-ui-stroke hover:ds-text-typo-primary hover:ds-decoration-ui-stroke-primary ds-block\"><span>Nitish Rana<!-- --> </span></span></a></td><td class=\"ds-min-w-max !ds-pl-[100px]\"><span class=\"ds-flex ds-cursor-pointer ds-items-center\"><i class=\"icon-keyboard_arrow_down-outlined ds-text-icon-primary ds-inline-flex ds-items-center\" style=\"font-size:16px\"></i><span>c Rayudu b Bravo</span></span></td><td class=\"ds-w-0 ds-whitespace-nowrap ds-min-w-max ds-text-right\"><strong>21</strong></td><td class=\"ds-w-0 ds-whitespace-nowrap ds-min-w-max ds-text-right\">17</td><td class=\"ds-w-0 ds-whitespace-nowrap ds-min-w-max ds-text-right\">19</td><td class=\"ds-w-0 ds-whitespace-nowrap ds-min-w-max ds-text-right\">2</td><td class=\"ds-w-0 ds-whitespace-nowrap ds-min-w-max ds-text-right\">1</td><td class=\"ds-w-0 ds-whitespace-nowrap ds-min-w-max ds-text-right\">123.52</td></tr><tr class=\"ds-hidden\"><td class=\"\" colspan=\"9\"></td></tr><tr class=\"\"><td class=\"ds-w-0 ds-whitespace-nowrap ds-min-w-max ds-flex ds-items-center ds-border-line-primary ci-scorecard-player-notout\"><a class=\"ds-inline-flex ds-items-start ds-leading-none\" href=\"/cricketers/shreyas-iyer-642519\" title=\"Shreyas Iyer\"><span class=\"ds-text-tight-s ds-font-medium ds-text-typo ds-underline ds-decoration-ui-stroke hover:ds-text-typo-primary hover:ds-decoration-ui-stroke-primary ds-block\"><span>Shreyas Iyer<!-- --> <span>(c)</span></span></span></a></td><td class=\"ds-min-w-max !ds-pl-[100px]\">not out </td><td class=\"ds-w-0 ds-whitespace-nowrap ds-min-w-max ds-text-right\"><strong>20</strong></td><td class=\"ds-w-0 ds-whitespace-nowrap ds-min-w-max ds-text-right\">19</td><td class=\"ds-w-0 ds-whitespace-nowrap ds-min-w-max ds-text-right\">36</td><td class=\"ds-w-0 ds-whitespace-nowrap ds-min-w-max ds-text-right\">1</td><td class=\"ds-w-0 ds-whitespace-nowrap ds-min-w-max ds-text-right\">0</td><td class=\"ds-w-0 ds-whitespace-nowrap ds-min-w-max ds-text-right\">105.26</td></tr><tr class=\"\"><td class=\"ds-w-0 ds-whitespace-nowrap ds-min-w-max ds-flex ds-items-center\"><a class=\"ds-inline-flex ds-items-start ds-leading-none\" href=\"/cricketers/sam-billings-297628\" title=\"Sam Billings\"><span class=\"ds-text-tight-s ds-font-medium ds-text-typo ds-underline ds-decoration-ui-stroke hover:ds-text-typo-primary hover:ds-decoration-ui-stroke-primary ds-block\"><span>Sam Billings<!-- --> </span></span></a></td><td class=\"ds-min-w-max !ds-pl-[100px]\"><span class=\"ds-flex ds-cursor-pointer ds-items-center\"><i class=\"icon-keyboard_arrow_down-outlined ds-text-icon-primary ds-inline-flex ds-items-center\" style=\"font-size:16px\"></i><span>c Deshpande b Bravo</span></span></td><td class=\"ds-w-0 ds-whitespace-nowrap ds-min-w-max ds-text-right\"><strong>25</strong></td><td class=\"ds-w-0 ds-whitespace-nowrap ds-min-w-max ds-text-right\">22</td><td class=\"ds-w-0 ds-whitespace-nowrap ds-min-w-max ds-text-right\">25</td><td class=\"ds-w-0 ds-whitespace-nowrap ds-min-w-max ds-text-right\">1</td><td class=\"ds-w-0 ds-whitespace-nowrap ds-min-w-max ds-text-right\">1</td><td class=\"ds-w-0 ds-whitespace-nowrap ds-min-w-max ds-text-right\">113.63</td></tr><tr class=\"ds-hidden\"><td class=\"\" colspan=\"9\"></td></tr><tr class=\"\"><td class=\"ds-w-0 ds-whitespace-nowrap ds-min-w-max ds-flex ds-items-center ds-border-line-primary ci-scorecard-player-notout\"><a class=\"ds-inline-flex ds-items-start ds-leading-none\" href=\"/cricketers/sheldon-jackson-237696\" title=\"Sheldon Jackson\"><span class=\"ds-text-tight-s ds-font-medium ds-text-typo ds-underline ds-decoration-ui-stroke hover:ds-text-typo-primary hover:ds-decoration-ui-stroke-primary ds-block\"><span>Sheldon Jackson<!-- --> <span>†</span></span></span></a></td><td class=\"ds-min-w-max !ds-pl-[100px]\">not out </td><td class=\"ds-w-0 ds-whitespace-nowrap ds-min-w-max ds-text-right\"><strong>3</strong></td><td class=\"ds-w-0 ds-whitespace-nowrap ds-min-w-max ds-text-right\">3</td><td class=\"ds-w-0 ds-whitespace-nowrap ds-min-w-max ds-text-right\">6</td><td class=\"ds-w-0 ds-whitespace-nowrap ds-min-w-max ds-text-right\">0</td><td class=\"ds-w-0 ds-whitespace-nowrap ds-min-w-max ds-text-right\">0</td><td class=\"ds-w-0 ds-whitespace-nowrap ds-min-w-max ds-text-right\">100.00</td></tr><tr class=\"ds-text-tight-s\"><td class=\"ds-min-w-max\" colspan=\"1\">Extras</td><td class=\"ds-min-w-max !ds-pl-[100px]\">(b 4)</td><td class=\"ds-min-w-max ds-text-right\" colspan=\"1\"><strong>4</strong></td><td class=\"ds-text-right\" colspan=\"7\"></td></tr><tr class=\"\"><td class=\"ds-font-bold ds-bg-fill-content-alternate ds-text-tight-m ds-min-w-max\" colspan=\"1\">TOTAL</td><td class=\"ds-font-bold ds-bg-fill-content-alternate ds-text-tight-m ds-min-w-max ds-flex ds-items-center !ds-pl-[100px]\"><span class=\"ds-font-regular ds-text-tight-s\">18.3 Ov</span><span class=\"ds-font-regular ds-text-tight-s\"> <!-- -->(RR: 7.18)</span><i class=\"icon-blank_placeholder ds-text-icon\" style=\"font-size:20px\"></i></td><td class=\"ds-font-bold ds-bg-fill-content-alternate ds-text-tight-m ds-min-w-max ds-text-right\" colspan=\"1\">133<!-- -->/4</td><td class=\"ds-font-bold ds-bg-fill-content-alternate ds-text-tight-m ds-text-right !ds-font-regular\" colspan=\"7\"><div></div></td></tr><tr class=\"!ds-border-b-0\"><td class=\"!ds-py-2\" colspan=\"9\"><div class=\"ds-text-tight-s ds-font-regular ds-leading-4\"><strong>Did not bat: </strong><a class=\"ds-inline-flex ds-items-start ds-leading-none\" href=\"/cricketers/andre-russell-276298\"><span class=\"ds-text-tight-s ds-font-medium ds-text-typo ds-underline ds-decoration-ui-stroke hover:ds-text-typo-primary hover:ds-decoration-ui-stroke-primary ds-block ds-mr-1\"><span>Andre Russell<!-- -->,<!-- --> </span></span></a><a class=\"ds-inline-flex ds-items-start ds-leading-none\" href=\"/cricketers/sunil-narine-230558\"><span class=\"ds-text-tight-s ds-font-medium ds-text-typo ds-underline ds-decoration-ui-stroke hover:ds-text-typo-primary hover:ds-decoration-ui-stroke-primary ds-block ds-mr-1\"><span>Sunil Narine<!-- -->,<!-- --> </span></span></a><a class=\"ds-inline-flex ds-items-start ds-leading-none\" href=\"/cricketers/umesh-yadav-376116\"><span class=\"ds-text-tight-s ds-font-medium ds-text-typo ds-underline ds-decoration-ui-stroke hover:ds-text-typo-primary hover:ds-decoration-ui-stroke-primary ds-block ds-mr-1\"><span>Umesh Yadav<!-- -->,<!-- --> </span></span></a><a class=\"ds-inline-flex ds-items-start ds-leading-none\" href=\"/cricketers/shivam-mavi-1079848\"><span class=\"ds-text-tight-s ds-font-medium ds-text-typo ds-underline ds-decoration-ui-stroke hover:ds-text-typo-primary hover:ds-decoration-ui-stroke-primary ds-block ds-mr-1\"><span>Shivam Mavi<!-- -->,<!-- --> </span></span></a><a class=\"ds-inline-flex ds-items-start ds-leading-none\" href=\"/cricketers/varun-chakravarthy-1108375\"><span class=\"ds-text-tight-s ds-font-medium ds-text-typo ds-underline ds-decoration-ui-stroke hover:ds-text-typo-primary hover:ds-decoration-ui-stroke-primary ds-block ds-mr-1\"><span>Varun Chakravarthy<!-- --> </span></span></a></div></td></tr><tr class=\"\"><td class=\"\" colspan=\"9\"><div class=\"ds-text-tight-s ds-font-regular ds-leading-4\"><strong>Fall of wickets<!-- -->: </strong><span>1<!-- -->-<!-- -->43<!-- --> (<!-- -->Venkatesh Iyer<!-- -->, 6.2 ov<!-- -->)</span><span>, <!-- -->2<!-- -->-<!-- -->76<!-- --> (<!-- -->Nitish Rana<!-- -->, 9.6 ov<!-- -->)</span><span>, <!-- -->3<!-- -->-<!-- -->87<!-- --> (<!-- -->Ajinkya Rahane<!-- -->, 11.4 ov<!-- -->)</span><span>, <!-- -->4<!-- -->-<!-- -->123<!-- --> (<!-- -->Sam Billings<!-- -->, 17.3 ov<!-- -->)</span></div></td></tr></tbody></table>]"
      ]
     },
     "execution_count": 10,
     "metadata": {},
     "output_type": "execute_result"
    }
   ],
   "source": [
    "tables = soup.find_all('table', class_=re.compile('ds-w-full ds-table ds-table-md ds-table-auto ci-scorecard-table'))\n",
    "tables"
   ]
  },
  {
   "cell_type": "code",
   "execution_count": 11,
   "metadata": {},
   "outputs": [],
   "source": [
    "trs = [table.find_all('tr') for table in tables]"
   ]
  },
  {
   "cell_type": "code",
   "execution_count": 8,
   "metadata": {},
   "outputs": [
    {
     "ename": "AttributeError",
     "evalue": "ResultSet object has no attribute 'text'. You're probably treating a list of elements like a single element. Did you call find_all() when you meant to call find()?",
     "output_type": "error",
     "traceback": [
      "\u001b[0;31m---------------------------------------------------------------------------\u001b[0m",
      "\u001b[0;31mAttributeError\u001b[0m                            Traceback (most recent call last)",
      "Cell \u001b[0;32mIn[8], line 1\u001b[0m\n\u001b[0;32m----> 1\u001b[0m [\u001b[39mprint\u001b[39m(tr\u001b[39m.\u001b[39mtext) \u001b[39mfor\u001b[39;00m tr \u001b[39min\u001b[39;00m trs]\n",
      "Cell \u001b[0;32mIn[8], line 1\u001b[0m, in \u001b[0;36m<listcomp>\u001b[0;34m(.0)\u001b[0m\n\u001b[0;32m----> 1\u001b[0m [\u001b[39mprint\u001b[39m(tr\u001b[39m.\u001b[39;49mtext) \u001b[39mfor\u001b[39;00m tr \u001b[39min\u001b[39;00m trs]\n",
      "File \u001b[0;32m~/.local/lib/python3.10/site-packages/bs4/element.py:2289\u001b[0m, in \u001b[0;36mResultSet.__getattr__\u001b[0;34m(self, key)\u001b[0m\n\u001b[1;32m   2287\u001b[0m \u001b[39mdef\u001b[39;00m \u001b[39m__getattr__\u001b[39m(\u001b[39mself\u001b[39m, key):\n\u001b[1;32m   2288\u001b[0m \u001b[39m    \u001b[39m\u001b[39m\"\"\"Raise a helpful exception to explain a common code fix.\"\"\"\u001b[39;00m\n\u001b[0;32m-> 2289\u001b[0m     \u001b[39mraise\u001b[39;00m \u001b[39mAttributeError\u001b[39;00m(\n\u001b[1;32m   2290\u001b[0m         \u001b[39m\"\u001b[39m\u001b[39mResultSet object has no attribute \u001b[39m\u001b[39m'\u001b[39m\u001b[39m%s\u001b[39;00m\u001b[39m'\u001b[39m\u001b[39m. You\u001b[39m\u001b[39m'\u001b[39m\u001b[39mre probably treating a list of elements like a single element. Did you call find_all() when you meant to call find()?\u001b[39m\u001b[39m\"\u001b[39m \u001b[39m%\u001b[39m key\n\u001b[1;32m   2291\u001b[0m     )\n",
      "\u001b[0;31mAttributeError\u001b[0m: ResultSet object has no attribute 'text'. You're probably treating a list of elements like a single element. Did you call find_all() when you meant to call find()?"
     ]
    }
   ],
   "source": [
    "[print(tr.text) for tr in trs]"
   ]
  },
  {
   "cell_type": "code",
   "execution_count": 12,
   "metadata": {},
   "outputs": [
    {
     "data": {
      "text/plain": [
       "[[<tr class=\"ds-text-right\"><th class=\"ds-w-0 ds-whitespace-nowrap ds-min-w-max ds-text-left\">BATTING</th><th class=\"ds-min-w-max\"> </th><th class=\"ds-w-0 ds-whitespace-nowrap ds-min-w-max\">R</th><th class=\"ds-w-0 ds-whitespace-nowrap ds-min-w-max\">B</th><th class=\"ds-w-0 ds-whitespace-nowrap ds-min-w-max\">M</th><th class=\"ds-w-0 ds-whitespace-nowrap ds-min-w-max\">4s</th><th class=\"ds-w-0 ds-whitespace-nowrap ds-min-w-max\">6s</th><th class=\"ds-w-0 ds-whitespace-nowrap ds-min-w-max\">SR</th></tr>,\n",
       "  <tr class=\"\"><td class=\"ds-w-0 ds-whitespace-nowrap ds-min-w-max ds-flex ds-items-center\"><a class=\"ds-inline-flex ds-items-start ds-leading-none\" href=\"/cricketers/ruturaj-gaikwad-1060380\" title=\"Ruturaj Gaikwad\"><span class=\"ds-text-tight-s ds-font-medium ds-text-typo ds-underline ds-decoration-ui-stroke hover:ds-text-typo-primary hover:ds-decoration-ui-stroke-primary ds-block\"><span>Ruturaj Gaikwad<!-- --> </span></span></a></td><td class=\"ds-min-w-max !ds-pl-[100px]\"><span class=\"ds-flex ds-cursor-pointer ds-items-center\"><i class=\"icon-keyboard_arrow_down-outlined ds-text-icon-primary ds-inline-flex ds-items-center\" style=\"font-size:16px\"></i><span>c Rana b Yadav</span></span></td><td class=\"ds-w-0 ds-whitespace-nowrap ds-min-w-max ds-text-right\"><strong>0</strong></td><td class=\"ds-w-0 ds-whitespace-nowrap ds-min-w-max ds-text-right\">4</td><td class=\"ds-w-0 ds-whitespace-nowrap ds-min-w-max ds-text-right\">5</td><td class=\"ds-w-0 ds-whitespace-nowrap ds-min-w-max ds-text-right\">0</td><td class=\"ds-w-0 ds-whitespace-nowrap ds-min-w-max ds-text-right\">0</td><td class=\"ds-w-0 ds-whitespace-nowrap ds-min-w-max ds-text-right\">0.00</td></tr>,\n",
       "  <tr class=\"ds-hidden\"><td class=\"\" colspan=\"9\"></td></tr>,\n",
       "  <tr class=\"\"><td class=\"ds-w-0 ds-whitespace-nowrap ds-min-w-max ds-flex ds-items-center\"><a class=\"ds-inline-flex ds-items-start ds-leading-none\" href=\"/cricketers/devon-conway-379140\" title=\"Devon Conway\"><span class=\"ds-text-tight-s ds-font-medium ds-text-typo ds-underline ds-decoration-ui-stroke hover:ds-text-typo-primary hover:ds-decoration-ui-stroke-primary ds-block\"><span>Devon Conway<!-- --> </span></span></a></td><td class=\"ds-min-w-max !ds-pl-[100px]\"><span class=\"ds-flex ds-cursor-pointer ds-items-center\"><i class=\"icon-keyboard_arrow_down-outlined ds-text-icon-primary ds-inline-flex ds-items-center\" style=\"font-size:16px\"></i><span>c SS Iyer b Yadav</span></span></td><td class=\"ds-w-0 ds-whitespace-nowrap ds-min-w-max ds-text-right\"><strong>3</strong></td><td class=\"ds-w-0 ds-whitespace-nowrap ds-min-w-max ds-text-right\">8</td><td class=\"ds-w-0 ds-whitespace-nowrap ds-min-w-max ds-text-right\">25</td><td class=\"ds-w-0 ds-whitespace-nowrap ds-min-w-max ds-text-right\">0</td><td class=\"ds-w-0 ds-whitespace-nowrap ds-min-w-max ds-text-right\">0</td><td class=\"ds-w-0 ds-whitespace-nowrap ds-min-w-max ds-text-right\">37.50</td></tr>,\n",
       "  <tr class=\"ds-hidden\"><td class=\"\" colspan=\"9\"></td></tr>,\n",
       "  <tr class=\"\"><td class=\"ds-w-0 ds-whitespace-nowrap ds-min-w-max ds-flex ds-items-center\"><a class=\"ds-inline-flex ds-items-start ds-leading-none\" href=\"/cricketers/robin-uthappa-35582\" title=\"Robin Uthappa\"><span class=\"ds-text-tight-s ds-font-medium ds-text-typo ds-underline ds-decoration-ui-stroke hover:ds-text-typo-primary hover:ds-decoration-ui-stroke-primary ds-block\"><span>Robin Uthappa<!-- --> </span></span></a></td><td class=\"ds-min-w-max !ds-pl-[100px]\"><span class=\"ds-flex ds-cursor-pointer ds-items-center\"><i class=\"icon-keyboard_arrow_down-outlined ds-text-icon-primary ds-inline-flex ds-items-center\" style=\"font-size:16px\"></i><span>st †Jackson b Varun</span></span></td><td class=\"ds-w-0 ds-whitespace-nowrap ds-min-w-max ds-text-right\"><strong>28</strong></td><td class=\"ds-w-0 ds-whitespace-nowrap ds-min-w-max ds-text-right\">21</td><td class=\"ds-w-0 ds-whitespace-nowrap ds-min-w-max ds-text-right\">37</td><td class=\"ds-w-0 ds-whitespace-nowrap ds-min-w-max ds-text-right\">2</td><td class=\"ds-w-0 ds-whitespace-nowrap ds-min-w-max ds-text-right\">2</td><td class=\"ds-w-0 ds-whitespace-nowrap ds-min-w-max ds-text-right\">133.33</td></tr>,\n",
       "  <tr class=\"ds-hidden\"><td class=\"\" colspan=\"9\"></td></tr>,\n",
       "  <tr class=\"\"><td class=\"ds-w-0 ds-whitespace-nowrap ds-min-w-max ds-flex ds-items-center\"><a class=\"ds-inline-flex ds-items-start ds-leading-none\" href=\"/cricketers/ambati-rayudu-33141\" title=\"Ambati Rayudu\"><span class=\"ds-text-tight-s ds-font-medium ds-text-typo ds-underline ds-decoration-ui-stroke hover:ds-text-typo-primary hover:ds-decoration-ui-stroke-primary ds-block\"><span>Ambati Rayudu<!-- --> </span></span></a></td><td class=\"ds-min-w-max !ds-pl-[100px]\"><span class=\"ds-flex ds-cursor-pointer ds-items-center\"><i class=\"icon-keyboard_arrow_down-outlined ds-text-icon-primary ds-inline-flex ds-items-center\" style=\"font-size:16px\"></i><span>run out (SS Iyer/Narine)</span></span></td><td class=\"ds-w-0 ds-whitespace-nowrap ds-min-w-max ds-text-right\"><strong>15</strong></td><td class=\"ds-w-0 ds-whitespace-nowrap ds-min-w-max ds-text-right\">17</td><td class=\"ds-w-0 ds-whitespace-nowrap ds-min-w-max ds-text-right\">22</td><td class=\"ds-w-0 ds-whitespace-nowrap ds-min-w-max ds-text-right\">1</td><td class=\"ds-w-0 ds-whitespace-nowrap ds-min-w-max ds-text-right\">1</td><td class=\"ds-w-0 ds-whitespace-nowrap ds-min-w-max ds-text-right\">88.23</td></tr>,\n",
       "  <tr class=\"ds-hidden\"><td class=\"\" colspan=\"9\"></td></tr>,\n",
       "  <tr class=\"\"><td class=\"ds-w-0 ds-whitespace-nowrap ds-min-w-max ds-flex ds-items-center ds-border-line-primary ci-scorecard-player-notout\"><a class=\"ds-inline-flex ds-items-start ds-leading-none\" href=\"/cricketers/ravindra-jadeja-234675\" title=\"Ravindra Jadeja\"><span class=\"ds-text-tight-s ds-font-medium ds-text-typo ds-underline ds-decoration-ui-stroke hover:ds-text-typo-primary hover:ds-decoration-ui-stroke-primary ds-block\"><span>Ravindra Jadeja<!-- --> <span>(c)</span></span></span></a></td><td class=\"ds-min-w-max !ds-pl-[100px]\">not out </td><td class=\"ds-w-0 ds-whitespace-nowrap ds-min-w-max ds-text-right\"><strong>26</strong></td><td class=\"ds-w-0 ds-whitespace-nowrap ds-min-w-max ds-text-right\">28</td><td class=\"ds-w-0 ds-whitespace-nowrap ds-min-w-max ds-text-right\">63</td><td class=\"ds-w-0 ds-whitespace-nowrap ds-min-w-max ds-text-right\">0</td><td class=\"ds-w-0 ds-whitespace-nowrap ds-min-w-max ds-text-right\">1</td><td class=\"ds-w-0 ds-whitespace-nowrap ds-min-w-max ds-text-right\">92.85</td></tr>,\n",
       "  <tr class=\"\"><td class=\"ds-w-0 ds-whitespace-nowrap ds-min-w-max ds-flex ds-items-center\"><a class=\"ds-inline-flex ds-items-start ds-leading-none\" href=\"/cricketers/shivam-dube-714451\" title=\"Shivam Dube\"><span class=\"ds-text-tight-s ds-font-medium ds-text-typo ds-underline ds-decoration-ui-stroke hover:ds-text-typo-primary hover:ds-decoration-ui-stroke-primary ds-block\"><span>Shivam Dube<!-- --> </span></span></a></td><td class=\"ds-min-w-max !ds-pl-[100px]\"><span class=\"ds-flex ds-cursor-pointer ds-items-center\"><i class=\"icon-keyboard_arrow_down-outlined ds-text-icon-primary ds-inline-flex ds-items-center\" style=\"font-size:16px\"></i><span>c Narine b Russell</span></span></td><td class=\"ds-w-0 ds-whitespace-nowrap ds-min-w-max ds-text-right\"><strong>3</strong></td><td class=\"ds-w-0 ds-whitespace-nowrap ds-min-w-max ds-text-right\">6</td><td class=\"ds-w-0 ds-whitespace-nowrap ds-min-w-max ds-text-right\">11</td><td class=\"ds-w-0 ds-whitespace-nowrap ds-min-w-max ds-text-right\">0</td><td class=\"ds-w-0 ds-whitespace-nowrap ds-min-w-max ds-text-right\">0</td><td class=\"ds-w-0 ds-whitespace-nowrap ds-min-w-max ds-text-right\">50.00</td></tr>,\n",
       "  <tr class=\"ds-hidden\"><td class=\"\" colspan=\"9\"></td></tr>,\n",
       "  <tr class=\"\"><td class=\"ds-w-0 ds-whitespace-nowrap ds-min-w-max ds-flex ds-items-center ds-border-line-primary ci-scorecard-player-notout\"><a class=\"ds-inline-flex ds-items-start ds-leading-none\" href=\"/cricketers/ms-dhoni-28081\" title=\"MS Dhoni\"><span class=\"ds-text-tight-s ds-font-medium ds-text-typo ds-underline ds-decoration-ui-stroke hover:ds-text-typo-primary hover:ds-decoration-ui-stroke-primary ds-block\"><span>MS Dhoni<!-- --> <span>†</span></span></span></a></td><td class=\"ds-min-w-max !ds-pl-[100px]\">not out </td><td class=\"ds-w-0 ds-whitespace-nowrap ds-min-w-max ds-text-right\"><strong>50</strong></td><td class=\"ds-w-0 ds-whitespace-nowrap ds-min-w-max ds-text-right\">38</td><td class=\"ds-w-0 ds-whitespace-nowrap ds-min-w-max ds-text-right\">47</td><td class=\"ds-w-0 ds-whitespace-nowrap ds-min-w-max ds-text-right\">7</td><td class=\"ds-w-0 ds-whitespace-nowrap ds-min-w-max ds-text-right\">1</td><td class=\"ds-w-0 ds-whitespace-nowrap ds-min-w-max ds-text-right\">131.57</td></tr>,\n",
       "  <tr class=\"ds-text-tight-s\"><td class=\"ds-min-w-max\" colspan=\"1\">Extras</td><td class=\"ds-min-w-max !ds-pl-[100px]\">(nb 2, w 4)</td><td class=\"ds-min-w-max ds-text-right\" colspan=\"1\"><strong>6</strong></td><td class=\"ds-text-right\" colspan=\"7\"></td></tr>,\n",
       "  <tr class=\"\"><td class=\"ds-font-bold ds-bg-fill-content-alternate ds-text-tight-m ds-min-w-max\" colspan=\"1\">TOTAL</td><td class=\"ds-font-bold ds-bg-fill-content-alternate ds-text-tight-m ds-min-w-max ds-flex ds-items-center !ds-pl-[100px]\"><span class=\"ds-font-regular ds-text-tight-s\">20 Ov</span><span class=\"ds-font-regular ds-text-tight-s\"> <!-- -->(RR: 6.55)</span><i class=\"icon-blank_placeholder ds-text-icon\" style=\"font-size:20px\"></i></td><td class=\"ds-font-bold ds-bg-fill-content-alternate ds-text-tight-m ds-min-w-max ds-text-right\" colspan=\"1\">131<!-- -->/5</td><td class=\"ds-font-bold ds-bg-fill-content-alternate ds-text-tight-m ds-text-right !ds-font-regular\" colspan=\"7\"><div></div></td></tr>,\n",
       "  <tr class=\"!ds-border-b-0\"><td class=\"!ds-py-2\" colspan=\"9\"><div class=\"ds-text-tight-s ds-font-regular ds-leading-4\"><strong>Did not bat: </strong><a class=\"ds-inline-flex ds-items-start ds-leading-none\" href=\"/cricketers/dwayne-bravo-51439\"><span class=\"ds-text-tight-s ds-font-medium ds-text-typo ds-underline ds-decoration-ui-stroke hover:ds-text-typo-primary hover:ds-decoration-ui-stroke-primary ds-block ds-mr-1\"><span>Dwayne Bravo<!-- -->,<!-- --> </span></span></a><a class=\"ds-inline-flex ds-items-start ds-leading-none\" href=\"/cricketers/mitchell-santner-502714\"><span class=\"ds-text-tight-s ds-font-medium ds-text-typo ds-underline ds-decoration-ui-stroke hover:ds-text-typo-primary hover:ds-decoration-ui-stroke-primary ds-block ds-mr-1\"><span>Mitchell Santner<!-- -->,<!-- --> </span></span></a><a class=\"ds-inline-flex ds-items-start ds-leading-none\" href=\"/cricketers/adam-milne-450860\"><span class=\"ds-text-tight-s ds-font-medium ds-text-typo ds-underline ds-decoration-ui-stroke hover:ds-text-typo-primary hover:ds-decoration-ui-stroke-primary ds-block ds-mr-1\"><span>Adam Milne<!-- -->,<!-- --> </span></span></a><a class=\"ds-inline-flex ds-items-start ds-leading-none\" href=\"/cricketers/tushar-deshpande-822553\"><span class=\"ds-text-tight-s ds-font-medium ds-text-typo ds-underline ds-decoration-ui-stroke hover:ds-text-typo-primary hover:ds-decoration-ui-stroke-primary ds-block ds-mr-1\"><span>Tushar Deshpande<!-- --> </span></span></a></div></td></tr>,\n",
       "  <tr class=\"\"><td class=\"\" colspan=\"9\"><div class=\"ds-text-tight-s ds-font-regular ds-leading-4\"><strong>Fall of wickets<!-- -->: </strong><span>1<!-- -->-<!-- -->2<!-- --> (<!-- -->Ruturaj Gaikwad<!-- -->, 0.3 ov<!-- -->)</span><span>, <!-- -->2<!-- -->-<!-- -->28<!-- --> (<!-- -->Devon Conway<!-- -->, 4.1 ov<!-- -->)</span><span>, <!-- -->3<!-- -->-<!-- -->49<!-- --> (<!-- -->Robin Uthappa<!-- -->, 7.5 ov<!-- -->)</span><span>, <!-- -->4<!-- -->-<!-- -->52<!-- --> (<!-- -->Ambati Rayudu<!-- -->, 8.4 ov<!-- -->)</span><span>, <!-- -->5<!-- -->-<!-- -->61<!-- --> (<!-- -->Shivam Dube<!-- -->, 10.5 ov<!-- -->)</span></div></td></tr>],\n",
       " [<tr class=\"ds-text-right\"><th class=\"ds-w-0 ds-whitespace-nowrap ds-min-w-max ds-text-left\">BATTING</th><th class=\"ds-min-w-max\"> </th><th class=\"ds-w-0 ds-whitespace-nowrap ds-min-w-max\">R</th><th class=\"ds-w-0 ds-whitespace-nowrap ds-min-w-max\">B</th><th class=\"ds-w-0 ds-whitespace-nowrap ds-min-w-max\">M</th><th class=\"ds-w-0 ds-whitespace-nowrap ds-min-w-max\">4s</th><th class=\"ds-w-0 ds-whitespace-nowrap ds-min-w-max\">6s</th><th class=\"ds-w-0 ds-whitespace-nowrap ds-min-w-max\">SR</th></tr>,\n",
       "  <tr class=\"\"><td class=\"ds-w-0 ds-whitespace-nowrap ds-min-w-max ds-flex ds-items-center\"><a class=\"ds-inline-flex ds-items-start ds-leading-none\" href=\"/cricketers/ajinkya-rahane-277916\" title=\"Ajinkya Rahane\"><span class=\"ds-text-tight-s ds-font-medium ds-text-typo ds-underline ds-decoration-ui-stroke hover:ds-text-typo-primary hover:ds-decoration-ui-stroke-primary ds-block\"><span>Ajinkya Rahane<!-- --> </span></span></a></td><td class=\"ds-min-w-max !ds-pl-[100px]\"><span class=\"ds-flex ds-cursor-pointer ds-items-center\"><i class=\"icon-keyboard_arrow_down-outlined ds-text-icon-primary ds-inline-flex ds-items-center\" style=\"font-size:16px\"></i><span>c Jadeja b Santner</span></span></td><td class=\"ds-w-0 ds-whitespace-nowrap ds-min-w-max ds-text-right\"><strong>44</strong></td><td class=\"ds-w-0 ds-whitespace-nowrap ds-min-w-max ds-text-right\">34</td><td class=\"ds-w-0 ds-whitespace-nowrap ds-min-w-max ds-text-right\">56</td><td class=\"ds-w-0 ds-whitespace-nowrap ds-min-w-max ds-text-right\">6</td><td class=\"ds-w-0 ds-whitespace-nowrap ds-min-w-max ds-text-right\">1</td><td class=\"ds-w-0 ds-whitespace-nowrap ds-min-w-max ds-text-right\">129.41</td></tr>,\n",
       "  <tr class=\"ds-hidden\"><td class=\"\" colspan=\"9\"></td></tr>,\n",
       "  <tr class=\"\"><td class=\"ds-w-0 ds-whitespace-nowrap ds-min-w-max ds-flex ds-items-center\"><a class=\"ds-inline-flex ds-items-start ds-leading-none\" href=\"/cricketers/venkatesh-iyer-851403\" title=\"Venkatesh Iyer\"><span class=\"ds-text-tight-s ds-font-medium ds-text-typo ds-underline ds-decoration-ui-stroke hover:ds-text-typo-primary hover:ds-decoration-ui-stroke-primary ds-block\"><span>Venkatesh Iyer<!-- --> </span></span></a></td><td class=\"ds-min-w-max !ds-pl-[100px]\"><span class=\"ds-flex ds-cursor-pointer ds-items-center\"><i class=\"icon-keyboard_arrow_down-outlined ds-text-icon-primary ds-inline-flex ds-items-center\" style=\"font-size:16px\"></i><span>c †Dhoni b Bravo</span></span></td><td class=\"ds-w-0 ds-whitespace-nowrap ds-min-w-max ds-text-right\"><strong>16</strong></td><td class=\"ds-w-0 ds-whitespace-nowrap ds-min-w-max ds-text-right\">16</td><td class=\"ds-w-0 ds-whitespace-nowrap ds-min-w-max ds-text-right\">31</td><td class=\"ds-w-0 ds-whitespace-nowrap ds-min-w-max ds-text-right\">2</td><td class=\"ds-w-0 ds-whitespace-nowrap ds-min-w-max ds-text-right\">0</td><td class=\"ds-w-0 ds-whitespace-nowrap ds-min-w-max ds-text-right\">100.00</td></tr>,\n",
       "  <tr class=\"ds-hidden\"><td class=\"\" colspan=\"9\"></td></tr>,\n",
       "  <tr class=\"\"><td class=\"ds-w-0 ds-whitespace-nowrap ds-min-w-max ds-flex ds-items-center\"><a class=\"ds-inline-flex ds-items-start ds-leading-none\" href=\"/cricketers/nitish-rana-604527\" title=\"Nitish Rana\"><span class=\"ds-text-tight-s ds-font-medium ds-text-typo ds-underline ds-decoration-ui-stroke hover:ds-text-typo-primary hover:ds-decoration-ui-stroke-primary ds-block\"><span>Nitish Rana<!-- --> </span></span></a></td><td class=\"ds-min-w-max !ds-pl-[100px]\"><span class=\"ds-flex ds-cursor-pointer ds-items-center\"><i class=\"icon-keyboard_arrow_down-outlined ds-text-icon-primary ds-inline-flex ds-items-center\" style=\"font-size:16px\"></i><span>c Rayudu b Bravo</span></span></td><td class=\"ds-w-0 ds-whitespace-nowrap ds-min-w-max ds-text-right\"><strong>21</strong></td><td class=\"ds-w-0 ds-whitespace-nowrap ds-min-w-max ds-text-right\">17</td><td class=\"ds-w-0 ds-whitespace-nowrap ds-min-w-max ds-text-right\">19</td><td class=\"ds-w-0 ds-whitespace-nowrap ds-min-w-max ds-text-right\">2</td><td class=\"ds-w-0 ds-whitespace-nowrap ds-min-w-max ds-text-right\">1</td><td class=\"ds-w-0 ds-whitespace-nowrap ds-min-w-max ds-text-right\">123.52</td></tr>,\n",
       "  <tr class=\"ds-hidden\"><td class=\"\" colspan=\"9\"></td></tr>,\n",
       "  <tr class=\"\"><td class=\"ds-w-0 ds-whitespace-nowrap ds-min-w-max ds-flex ds-items-center ds-border-line-primary ci-scorecard-player-notout\"><a class=\"ds-inline-flex ds-items-start ds-leading-none\" href=\"/cricketers/shreyas-iyer-642519\" title=\"Shreyas Iyer\"><span class=\"ds-text-tight-s ds-font-medium ds-text-typo ds-underline ds-decoration-ui-stroke hover:ds-text-typo-primary hover:ds-decoration-ui-stroke-primary ds-block\"><span>Shreyas Iyer<!-- --> <span>(c)</span></span></span></a></td><td class=\"ds-min-w-max !ds-pl-[100px]\">not out </td><td class=\"ds-w-0 ds-whitespace-nowrap ds-min-w-max ds-text-right\"><strong>20</strong></td><td class=\"ds-w-0 ds-whitespace-nowrap ds-min-w-max ds-text-right\">19</td><td class=\"ds-w-0 ds-whitespace-nowrap ds-min-w-max ds-text-right\">36</td><td class=\"ds-w-0 ds-whitespace-nowrap ds-min-w-max ds-text-right\">1</td><td class=\"ds-w-0 ds-whitespace-nowrap ds-min-w-max ds-text-right\">0</td><td class=\"ds-w-0 ds-whitespace-nowrap ds-min-w-max ds-text-right\">105.26</td></tr>,\n",
       "  <tr class=\"\"><td class=\"ds-w-0 ds-whitespace-nowrap ds-min-w-max ds-flex ds-items-center\"><a class=\"ds-inline-flex ds-items-start ds-leading-none\" href=\"/cricketers/sam-billings-297628\" title=\"Sam Billings\"><span class=\"ds-text-tight-s ds-font-medium ds-text-typo ds-underline ds-decoration-ui-stroke hover:ds-text-typo-primary hover:ds-decoration-ui-stroke-primary ds-block\"><span>Sam Billings<!-- --> </span></span></a></td><td class=\"ds-min-w-max !ds-pl-[100px]\"><span class=\"ds-flex ds-cursor-pointer ds-items-center\"><i class=\"icon-keyboard_arrow_down-outlined ds-text-icon-primary ds-inline-flex ds-items-center\" style=\"font-size:16px\"></i><span>c Deshpande b Bravo</span></span></td><td class=\"ds-w-0 ds-whitespace-nowrap ds-min-w-max ds-text-right\"><strong>25</strong></td><td class=\"ds-w-0 ds-whitespace-nowrap ds-min-w-max ds-text-right\">22</td><td class=\"ds-w-0 ds-whitespace-nowrap ds-min-w-max ds-text-right\">25</td><td class=\"ds-w-0 ds-whitespace-nowrap ds-min-w-max ds-text-right\">1</td><td class=\"ds-w-0 ds-whitespace-nowrap ds-min-w-max ds-text-right\">1</td><td class=\"ds-w-0 ds-whitespace-nowrap ds-min-w-max ds-text-right\">113.63</td></tr>,\n",
       "  <tr class=\"ds-hidden\"><td class=\"\" colspan=\"9\"></td></tr>,\n",
       "  <tr class=\"\"><td class=\"ds-w-0 ds-whitespace-nowrap ds-min-w-max ds-flex ds-items-center ds-border-line-primary ci-scorecard-player-notout\"><a class=\"ds-inline-flex ds-items-start ds-leading-none\" href=\"/cricketers/sheldon-jackson-237696\" title=\"Sheldon Jackson\"><span class=\"ds-text-tight-s ds-font-medium ds-text-typo ds-underline ds-decoration-ui-stroke hover:ds-text-typo-primary hover:ds-decoration-ui-stroke-primary ds-block\"><span>Sheldon Jackson<!-- --> <span>†</span></span></span></a></td><td class=\"ds-min-w-max !ds-pl-[100px]\">not out </td><td class=\"ds-w-0 ds-whitespace-nowrap ds-min-w-max ds-text-right\"><strong>3</strong></td><td class=\"ds-w-0 ds-whitespace-nowrap ds-min-w-max ds-text-right\">3</td><td class=\"ds-w-0 ds-whitespace-nowrap ds-min-w-max ds-text-right\">6</td><td class=\"ds-w-0 ds-whitespace-nowrap ds-min-w-max ds-text-right\">0</td><td class=\"ds-w-0 ds-whitespace-nowrap ds-min-w-max ds-text-right\">0</td><td class=\"ds-w-0 ds-whitespace-nowrap ds-min-w-max ds-text-right\">100.00</td></tr>,\n",
       "  <tr class=\"ds-text-tight-s\"><td class=\"ds-min-w-max\" colspan=\"1\">Extras</td><td class=\"ds-min-w-max !ds-pl-[100px]\">(b 4)</td><td class=\"ds-min-w-max ds-text-right\" colspan=\"1\"><strong>4</strong></td><td class=\"ds-text-right\" colspan=\"7\"></td></tr>,\n",
       "  <tr class=\"\"><td class=\"ds-font-bold ds-bg-fill-content-alternate ds-text-tight-m ds-min-w-max\" colspan=\"1\">TOTAL</td><td class=\"ds-font-bold ds-bg-fill-content-alternate ds-text-tight-m ds-min-w-max ds-flex ds-items-center !ds-pl-[100px]\"><span class=\"ds-font-regular ds-text-tight-s\">18.3 Ov</span><span class=\"ds-font-regular ds-text-tight-s\"> <!-- -->(RR: 7.18)</span><i class=\"icon-blank_placeholder ds-text-icon\" style=\"font-size:20px\"></i></td><td class=\"ds-font-bold ds-bg-fill-content-alternate ds-text-tight-m ds-min-w-max ds-text-right\" colspan=\"1\">133<!-- -->/4</td><td class=\"ds-font-bold ds-bg-fill-content-alternate ds-text-tight-m ds-text-right !ds-font-regular\" colspan=\"7\"><div></div></td></tr>,\n",
       "  <tr class=\"!ds-border-b-0\"><td class=\"!ds-py-2\" colspan=\"9\"><div class=\"ds-text-tight-s ds-font-regular ds-leading-4\"><strong>Did not bat: </strong><a class=\"ds-inline-flex ds-items-start ds-leading-none\" href=\"/cricketers/andre-russell-276298\"><span class=\"ds-text-tight-s ds-font-medium ds-text-typo ds-underline ds-decoration-ui-stroke hover:ds-text-typo-primary hover:ds-decoration-ui-stroke-primary ds-block ds-mr-1\"><span>Andre Russell<!-- -->,<!-- --> </span></span></a><a class=\"ds-inline-flex ds-items-start ds-leading-none\" href=\"/cricketers/sunil-narine-230558\"><span class=\"ds-text-tight-s ds-font-medium ds-text-typo ds-underline ds-decoration-ui-stroke hover:ds-text-typo-primary hover:ds-decoration-ui-stroke-primary ds-block ds-mr-1\"><span>Sunil Narine<!-- -->,<!-- --> </span></span></a><a class=\"ds-inline-flex ds-items-start ds-leading-none\" href=\"/cricketers/umesh-yadav-376116\"><span class=\"ds-text-tight-s ds-font-medium ds-text-typo ds-underline ds-decoration-ui-stroke hover:ds-text-typo-primary hover:ds-decoration-ui-stroke-primary ds-block ds-mr-1\"><span>Umesh Yadav<!-- -->,<!-- --> </span></span></a><a class=\"ds-inline-flex ds-items-start ds-leading-none\" href=\"/cricketers/shivam-mavi-1079848\"><span class=\"ds-text-tight-s ds-font-medium ds-text-typo ds-underline ds-decoration-ui-stroke hover:ds-text-typo-primary hover:ds-decoration-ui-stroke-primary ds-block ds-mr-1\"><span>Shivam Mavi<!-- -->,<!-- --> </span></span></a><a class=\"ds-inline-flex ds-items-start ds-leading-none\" href=\"/cricketers/varun-chakravarthy-1108375\"><span class=\"ds-text-tight-s ds-font-medium ds-text-typo ds-underline ds-decoration-ui-stroke hover:ds-text-typo-primary hover:ds-decoration-ui-stroke-primary ds-block ds-mr-1\"><span>Varun Chakravarthy<!-- --> </span></span></a></div></td></tr>,\n",
       "  <tr class=\"\"><td class=\"\" colspan=\"9\"><div class=\"ds-text-tight-s ds-font-regular ds-leading-4\"><strong>Fall of wickets<!-- -->: </strong><span>1<!-- -->-<!-- -->43<!-- --> (<!-- -->Venkatesh Iyer<!-- -->, 6.2 ov<!-- -->)</span><span>, <!-- -->2<!-- -->-<!-- -->76<!-- --> (<!-- -->Nitish Rana<!-- -->, 9.6 ov<!-- -->)</span><span>, <!-- -->3<!-- -->-<!-- -->87<!-- --> (<!-- -->Ajinkya Rahane<!-- -->, 11.4 ov<!-- -->)</span><span>, <!-- -->4<!-- -->-<!-- -->123<!-- --> (<!-- -->Sam Billings<!-- -->, 17.3 ov<!-- -->)</span></div></td></tr>]]"
      ]
     },
     "execution_count": 12,
     "metadata": {},
     "output_type": "execute_result"
    }
   ],
   "source": [
    "trs"
   ]
  },
  {
   "cell_type": "code",
   "execution_count": 19,
   "metadata": {},
   "outputs": [
    {
     "data": {
      "text/plain": [
       "<table class=\"ds-w-full ds-table ds-table-md ds-table-auto ci-scorecard-table\"><thead class=\"ds-bg-fill-content-alternate ds-text-left\"><tr class=\"ds-text-right\"><th class=\"ds-w-0 ds-whitespace-nowrap ds-min-w-max ds-text-left\">BATTING</th><th class=\"ds-min-w-max\"> </th><th class=\"ds-w-0 ds-whitespace-nowrap ds-min-w-max\">R</th><th class=\"ds-w-0 ds-whitespace-nowrap ds-min-w-max\">B</th><th class=\"ds-w-0 ds-whitespace-nowrap ds-min-w-max\">M</th><th class=\"ds-w-0 ds-whitespace-nowrap ds-min-w-max\">4s</th><th class=\"ds-w-0 ds-whitespace-nowrap ds-min-w-max\">6s</th><th class=\"ds-w-0 ds-whitespace-nowrap ds-min-w-max\">SR</th></tr></thead><tbody class=\"\"><tr class=\"\"><td class=\"ds-w-0 ds-whitespace-nowrap ds-min-w-max ds-flex ds-items-center\"><a class=\"ds-inline-flex ds-items-start ds-leading-none\" href=\"/cricketers/ruturaj-gaikwad-1060380\" title=\"Ruturaj Gaikwad\"><span class=\"ds-text-tight-s ds-font-medium ds-text-typo ds-underline ds-decoration-ui-stroke hover:ds-text-typo-primary hover:ds-decoration-ui-stroke-primary ds-block\"><span>Ruturaj Gaikwad<!-- --> </span></span></a></td><td class=\"ds-min-w-max !ds-pl-[100px]\"><span class=\"ds-flex ds-cursor-pointer ds-items-center\"><i class=\"icon-keyboard_arrow_down-outlined ds-text-icon-primary ds-inline-flex ds-items-center\" style=\"font-size:16px\"></i><span>c Rana b Yadav</span></span></td><td class=\"ds-w-0 ds-whitespace-nowrap ds-min-w-max ds-text-right\"><strong>0</strong></td><td class=\"ds-w-0 ds-whitespace-nowrap ds-min-w-max ds-text-right\">4</td><td class=\"ds-w-0 ds-whitespace-nowrap ds-min-w-max ds-text-right\">5</td><td class=\"ds-w-0 ds-whitespace-nowrap ds-min-w-max ds-text-right\">0</td><td class=\"ds-w-0 ds-whitespace-nowrap ds-min-w-max ds-text-right\">0</td><td class=\"ds-w-0 ds-whitespace-nowrap ds-min-w-max ds-text-right\">0.00</td></tr><tr class=\"ds-hidden\"><td class=\"\" colspan=\"9\"></td></tr><tr class=\"\"><td class=\"ds-w-0 ds-whitespace-nowrap ds-min-w-max ds-flex ds-items-center\"><a class=\"ds-inline-flex ds-items-start ds-leading-none\" href=\"/cricketers/devon-conway-379140\" title=\"Devon Conway\"><span class=\"ds-text-tight-s ds-font-medium ds-text-typo ds-underline ds-decoration-ui-stroke hover:ds-text-typo-primary hover:ds-decoration-ui-stroke-primary ds-block\"><span>Devon Conway<!-- --> </span></span></a></td><td class=\"ds-min-w-max !ds-pl-[100px]\"><span class=\"ds-flex ds-cursor-pointer ds-items-center\"><i class=\"icon-keyboard_arrow_down-outlined ds-text-icon-primary ds-inline-flex ds-items-center\" style=\"font-size:16px\"></i><span>c SS Iyer b Yadav</span></span></td><td class=\"ds-w-0 ds-whitespace-nowrap ds-min-w-max ds-text-right\"><strong>3</strong></td><td class=\"ds-w-0 ds-whitespace-nowrap ds-min-w-max ds-text-right\">8</td><td class=\"ds-w-0 ds-whitespace-nowrap ds-min-w-max ds-text-right\">25</td><td class=\"ds-w-0 ds-whitespace-nowrap ds-min-w-max ds-text-right\">0</td><td class=\"ds-w-0 ds-whitespace-nowrap ds-min-w-max ds-text-right\">0</td><td class=\"ds-w-0 ds-whitespace-nowrap ds-min-w-max ds-text-right\">37.50</td></tr><tr class=\"ds-hidden\"><td class=\"\" colspan=\"9\"></td></tr><tr class=\"\"><td class=\"ds-w-0 ds-whitespace-nowrap ds-min-w-max ds-flex ds-items-center\"><a class=\"ds-inline-flex ds-items-start ds-leading-none\" href=\"/cricketers/robin-uthappa-35582\" title=\"Robin Uthappa\"><span class=\"ds-text-tight-s ds-font-medium ds-text-typo ds-underline ds-decoration-ui-stroke hover:ds-text-typo-primary hover:ds-decoration-ui-stroke-primary ds-block\"><span>Robin Uthappa<!-- --> </span></span></a></td><td class=\"ds-min-w-max !ds-pl-[100px]\"><span class=\"ds-flex ds-cursor-pointer ds-items-center\"><i class=\"icon-keyboard_arrow_down-outlined ds-text-icon-primary ds-inline-flex ds-items-center\" style=\"font-size:16px\"></i><span>st †Jackson b Varun</span></span></td><td class=\"ds-w-0 ds-whitespace-nowrap ds-min-w-max ds-text-right\"><strong>28</strong></td><td class=\"ds-w-0 ds-whitespace-nowrap ds-min-w-max ds-text-right\">21</td><td class=\"ds-w-0 ds-whitespace-nowrap ds-min-w-max ds-text-right\">37</td><td class=\"ds-w-0 ds-whitespace-nowrap ds-min-w-max ds-text-right\">2</td><td class=\"ds-w-0 ds-whitespace-nowrap ds-min-w-max ds-text-right\">2</td><td class=\"ds-w-0 ds-whitespace-nowrap ds-min-w-max ds-text-right\">133.33</td></tr><tr class=\"ds-hidden\"><td class=\"\" colspan=\"9\"></td></tr><tr class=\"\"><td class=\"ds-w-0 ds-whitespace-nowrap ds-min-w-max ds-flex ds-items-center\"><a class=\"ds-inline-flex ds-items-start ds-leading-none\" href=\"/cricketers/ambati-rayudu-33141\" title=\"Ambati Rayudu\"><span class=\"ds-text-tight-s ds-font-medium ds-text-typo ds-underline ds-decoration-ui-stroke hover:ds-text-typo-primary hover:ds-decoration-ui-stroke-primary ds-block\"><span>Ambati Rayudu<!-- --> </span></span></a></td><td class=\"ds-min-w-max !ds-pl-[100px]\"><span class=\"ds-flex ds-cursor-pointer ds-items-center\"><i class=\"icon-keyboard_arrow_down-outlined ds-text-icon-primary ds-inline-flex ds-items-center\" style=\"font-size:16px\"></i><span>run out (SS Iyer/Narine)</span></span></td><td class=\"ds-w-0 ds-whitespace-nowrap ds-min-w-max ds-text-right\"><strong>15</strong></td><td class=\"ds-w-0 ds-whitespace-nowrap ds-min-w-max ds-text-right\">17</td><td class=\"ds-w-0 ds-whitespace-nowrap ds-min-w-max ds-text-right\">22</td><td class=\"ds-w-0 ds-whitespace-nowrap ds-min-w-max ds-text-right\">1</td><td class=\"ds-w-0 ds-whitespace-nowrap ds-min-w-max ds-text-right\">1</td><td class=\"ds-w-0 ds-whitespace-nowrap ds-min-w-max ds-text-right\">88.23</td></tr><tr class=\"ds-hidden\"><td class=\"\" colspan=\"9\"></td></tr><tr class=\"\"><td class=\"ds-w-0 ds-whitespace-nowrap ds-min-w-max ds-flex ds-items-center ds-border-line-primary ci-scorecard-player-notout\"><a class=\"ds-inline-flex ds-items-start ds-leading-none\" href=\"/cricketers/ravindra-jadeja-234675\" title=\"Ravindra Jadeja\"><span class=\"ds-text-tight-s ds-font-medium ds-text-typo ds-underline ds-decoration-ui-stroke hover:ds-text-typo-primary hover:ds-decoration-ui-stroke-primary ds-block\"><span>Ravindra Jadeja<!-- --> <span>(c)</span></span></span></a></td><td class=\"ds-min-w-max !ds-pl-[100px]\">not out </td><td class=\"ds-w-0 ds-whitespace-nowrap ds-min-w-max ds-text-right\"><strong>26</strong></td><td class=\"ds-w-0 ds-whitespace-nowrap ds-min-w-max ds-text-right\">28</td><td class=\"ds-w-0 ds-whitespace-nowrap ds-min-w-max ds-text-right\">63</td><td class=\"ds-w-0 ds-whitespace-nowrap ds-min-w-max ds-text-right\">0</td><td class=\"ds-w-0 ds-whitespace-nowrap ds-min-w-max ds-text-right\">1</td><td class=\"ds-w-0 ds-whitespace-nowrap ds-min-w-max ds-text-right\">92.85</td></tr><tr class=\"\"><td class=\"ds-w-0 ds-whitespace-nowrap ds-min-w-max ds-flex ds-items-center\"><a class=\"ds-inline-flex ds-items-start ds-leading-none\" href=\"/cricketers/shivam-dube-714451\" title=\"Shivam Dube\"><span class=\"ds-text-tight-s ds-font-medium ds-text-typo ds-underline ds-decoration-ui-stroke hover:ds-text-typo-primary hover:ds-decoration-ui-stroke-primary ds-block\"><span>Shivam Dube<!-- --> </span></span></a></td><td class=\"ds-min-w-max !ds-pl-[100px]\"><span class=\"ds-flex ds-cursor-pointer ds-items-center\"><i class=\"icon-keyboard_arrow_down-outlined ds-text-icon-primary ds-inline-flex ds-items-center\" style=\"font-size:16px\"></i><span>c Narine b Russell</span></span></td><td class=\"ds-w-0 ds-whitespace-nowrap ds-min-w-max ds-text-right\"><strong>3</strong></td><td class=\"ds-w-0 ds-whitespace-nowrap ds-min-w-max ds-text-right\">6</td><td class=\"ds-w-0 ds-whitespace-nowrap ds-min-w-max ds-text-right\">11</td><td class=\"ds-w-0 ds-whitespace-nowrap ds-min-w-max ds-text-right\">0</td><td class=\"ds-w-0 ds-whitespace-nowrap ds-min-w-max ds-text-right\">0</td><td class=\"ds-w-0 ds-whitespace-nowrap ds-min-w-max ds-text-right\">50.00</td></tr><tr class=\"ds-hidden\"><td class=\"\" colspan=\"9\"></td></tr><tr class=\"\"><td class=\"ds-w-0 ds-whitespace-nowrap ds-min-w-max ds-flex ds-items-center ds-border-line-primary ci-scorecard-player-notout\"><a class=\"ds-inline-flex ds-items-start ds-leading-none\" href=\"/cricketers/ms-dhoni-28081\" title=\"MS Dhoni\"><span class=\"ds-text-tight-s ds-font-medium ds-text-typo ds-underline ds-decoration-ui-stroke hover:ds-text-typo-primary hover:ds-decoration-ui-stroke-primary ds-block\"><span>MS Dhoni<!-- --> <span>†</span></span></span></a></td><td class=\"ds-min-w-max !ds-pl-[100px]\">not out </td><td class=\"ds-w-0 ds-whitespace-nowrap ds-min-w-max ds-text-right\"><strong>50</strong></td><td class=\"ds-w-0 ds-whitespace-nowrap ds-min-w-max ds-text-right\">38</td><td class=\"ds-w-0 ds-whitespace-nowrap ds-min-w-max ds-text-right\">47</td><td class=\"ds-w-0 ds-whitespace-nowrap ds-min-w-max ds-text-right\">7</td><td class=\"ds-w-0 ds-whitespace-nowrap ds-min-w-max ds-text-right\">1</td><td class=\"ds-w-0 ds-whitespace-nowrap ds-min-w-max ds-text-right\">131.57</td></tr><tr class=\"ds-text-tight-s\"><td class=\"ds-min-w-max\" colspan=\"1\">Extras</td><td class=\"ds-min-w-max !ds-pl-[100px]\">(nb 2, w 4)</td><td class=\"ds-min-w-max ds-text-right\" colspan=\"1\"><strong>6</strong></td><td class=\"ds-text-right\" colspan=\"7\"></td></tr><tr class=\"\"><td class=\"ds-font-bold ds-bg-fill-content-alternate ds-text-tight-m ds-min-w-max\" colspan=\"1\">TOTAL</td><td class=\"ds-font-bold ds-bg-fill-content-alternate ds-text-tight-m ds-min-w-max ds-flex ds-items-center !ds-pl-[100px]\"><span class=\"ds-font-regular ds-text-tight-s\">20 Ov</span><span class=\"ds-font-regular ds-text-tight-s\"> <!-- -->(RR: 6.55)</span><i class=\"icon-blank_placeholder ds-text-icon\" style=\"font-size:20px\"></i></td><td class=\"ds-font-bold ds-bg-fill-content-alternate ds-text-tight-m ds-min-w-max ds-text-right\" colspan=\"1\">131<!-- -->/5</td><td class=\"ds-font-bold ds-bg-fill-content-alternate ds-text-tight-m ds-text-right !ds-font-regular\" colspan=\"7\"><div></div></td></tr><tr class=\"!ds-border-b-0\"><td class=\"!ds-py-2\" colspan=\"9\"><div class=\"ds-text-tight-s ds-font-regular ds-leading-4\"><strong>Did not bat: </strong><a class=\"ds-inline-flex ds-items-start ds-leading-none\" href=\"/cricketers/dwayne-bravo-51439\"><span class=\"ds-text-tight-s ds-font-medium ds-text-typo ds-underline ds-decoration-ui-stroke hover:ds-text-typo-primary hover:ds-decoration-ui-stroke-primary ds-block ds-mr-1\"><span>Dwayne Bravo<!-- -->,<!-- --> </span></span></a><a class=\"ds-inline-flex ds-items-start ds-leading-none\" href=\"/cricketers/mitchell-santner-502714\"><span class=\"ds-text-tight-s ds-font-medium ds-text-typo ds-underline ds-decoration-ui-stroke hover:ds-text-typo-primary hover:ds-decoration-ui-stroke-primary ds-block ds-mr-1\"><span>Mitchell Santner<!-- -->,<!-- --> </span></span></a><a class=\"ds-inline-flex ds-items-start ds-leading-none\" href=\"/cricketers/adam-milne-450860\"><span class=\"ds-text-tight-s ds-font-medium ds-text-typo ds-underline ds-decoration-ui-stroke hover:ds-text-typo-primary hover:ds-decoration-ui-stroke-primary ds-block ds-mr-1\"><span>Adam Milne<!-- -->,<!-- --> </span></span></a><a class=\"ds-inline-flex ds-items-start ds-leading-none\" href=\"/cricketers/tushar-deshpande-822553\"><span class=\"ds-text-tight-s ds-font-medium ds-text-typo ds-underline ds-decoration-ui-stroke hover:ds-text-typo-primary hover:ds-decoration-ui-stroke-primary ds-block ds-mr-1\"><span>Tushar Deshpande<!-- --> </span></span></a></div></td></tr><tr class=\"\"><td class=\"\" colspan=\"9\"><div class=\"ds-text-tight-s ds-font-regular ds-leading-4\"><strong>Fall of wickets<!-- -->: </strong><span>1<!-- -->-<!-- -->2<!-- --> (<!-- -->Ruturaj Gaikwad<!-- -->, 0.3 ov<!-- -->)</span><span>, <!-- -->2<!-- -->-<!-- -->28<!-- --> (<!-- -->Devon Conway<!-- -->, 4.1 ov<!-- -->)</span><span>, <!-- -->3<!-- -->-<!-- -->49<!-- --> (<!-- -->Robin Uthappa<!-- -->, 7.5 ov<!-- -->)</span><span>, <!-- -->4<!-- -->-<!-- -->52<!-- --> (<!-- -->Ambati Rayudu<!-- -->, 8.4 ov<!-- -->)</span><span>, <!-- -->5<!-- -->-<!-- -->61<!-- --> (<!-- -->Shivam Dube<!-- -->, 10.5 ov<!-- -->)</span></div></td></tr></tbody></table>"
      ]
     },
     "execution_count": 19,
     "metadata": {},
     "output_type": "execute_result"
    }
   ],
   "source": [
    "tables[0]"
   ]
  },
  {
   "cell_type": "code",
   "execution_count": 17,
   "metadata": {},
   "outputs": [],
   "source": [
    "def get_teams(soup):\n",
    "    teams = soup.find_all(class_='ds-text-title-xs ds-font-bold ds-capitalize')\n",
    "    return [team.text for team in teams]"
   ]
  },
  {
   "cell_type": "code",
   "execution_count": 18,
   "metadata": {},
   "outputs": [
    {
     "data": {
      "text/plain": [
       "['Chennai Super Kings', 'Kolkata Knight Riders']"
      ]
     },
     "execution_count": 18,
     "metadata": {},
     "output_type": "execute_result"
    }
   ],
   "source": [
    "get_teams(soup)"
   ]
  },
  {
   "cell_type": "code",
   "execution_count": 20,
   "metadata": {},
   "outputs": [],
   "source": [
    "def get_table_rows(table, date):\n",
    "    if len(table) > 0:\n",
    "        tr_tags = table.find_all('tr')\n",
    "        print(len(tr_tags))\n",
    "        # [print(tag.text) for tag in td_tags]\n",
    "        return tr_tags\n",
    "    else:\n",
    "        print(f'{date} has no data.')"
   ]
  },
  {
   "cell_type": "code",
   "execution_count": 21,
   "metadata": {},
   "outputs": [],
   "source": [
    "def get_date(soup):\n",
    "    return (soup.find(class_='ds-text-tight-m ds-font-regular ds-text-typo-mid3').text).split(',')[2]\n"
   ]
  },
  {
   "cell_type": "code",
   "execution_count": 22,
   "metadata": {},
   "outputs": [
    {
     "data": {
      "text/plain": [
       "' March 26'"
      ]
     },
     "execution_count": 22,
     "metadata": {},
     "output_type": "execute_result"
    }
   ],
   "source": [
    "date = get_date(soup)\n",
    "date"
   ]
  },
  {
   "cell_type": "code",
   "execution_count": 23,
   "metadata": {},
   "outputs": [
    {
     "ename": "AttributeError",
     "evalue": "ResultSet object has no attribute 'find_all'. You're probably treating a list of elements like a single element. Did you call find_all() when you meant to call find()?",
     "output_type": "error",
     "traceback": [
      "\u001b[0;31m---------------------------------------------------------------------------\u001b[0m",
      "\u001b[0;31mAttributeError\u001b[0m                            Traceback (most recent call last)",
      "Cell \u001b[0;32mIn[23], line 1\u001b[0m\n\u001b[0;32m----> 1\u001b[0m get_table_rows(tables, date)\n",
      "Cell \u001b[0;32mIn[20], line 3\u001b[0m, in \u001b[0;36mget_table_rows\u001b[0;34m(table, date)\u001b[0m\n\u001b[1;32m      1\u001b[0m \u001b[39mdef\u001b[39;00m \u001b[39mget_table_rows\u001b[39m(table, date):\n\u001b[1;32m      2\u001b[0m     \u001b[39mif\u001b[39;00m \u001b[39mlen\u001b[39m(table) \u001b[39m>\u001b[39m \u001b[39m0\u001b[39m:\n\u001b[0;32m----> 3\u001b[0m         tr_tags \u001b[39m=\u001b[39m table\u001b[39m.\u001b[39;49mfind_all(\u001b[39m'\u001b[39m\u001b[39mtr\u001b[39m\u001b[39m'\u001b[39m)\n\u001b[1;32m      4\u001b[0m         \u001b[39mprint\u001b[39m(\u001b[39mlen\u001b[39m(tr_tags))\n\u001b[1;32m      5\u001b[0m         \u001b[39m# [print(tag.text) for tag in td_tags]\u001b[39;00m\n",
      "File \u001b[0;32m~/.local/lib/python3.10/site-packages/bs4/element.py:2289\u001b[0m, in \u001b[0;36mResultSet.__getattr__\u001b[0;34m(self, key)\u001b[0m\n\u001b[1;32m   2287\u001b[0m \u001b[39mdef\u001b[39;00m \u001b[39m__getattr__\u001b[39m(\u001b[39mself\u001b[39m, key):\n\u001b[1;32m   2288\u001b[0m \u001b[39m    \u001b[39m\u001b[39m\"\"\"Raise a helpful exception to explain a common code fix.\"\"\"\u001b[39;00m\n\u001b[0;32m-> 2289\u001b[0m     \u001b[39mraise\u001b[39;00m \u001b[39mAttributeError\u001b[39;00m(\n\u001b[1;32m   2290\u001b[0m         \u001b[39m\"\u001b[39m\u001b[39mResultSet object has no attribute \u001b[39m\u001b[39m'\u001b[39m\u001b[39m%s\u001b[39;00m\u001b[39m'\u001b[39m\u001b[39m. You\u001b[39m\u001b[39m'\u001b[39m\u001b[39mre probably treating a list of elements like a single element. Did you call find_all() when you meant to call find()?\u001b[39m\u001b[39m\"\u001b[39m \u001b[39m%\u001b[39m key\n\u001b[1;32m   2291\u001b[0m     )\n",
      "\u001b[0;31mAttributeError\u001b[0m: ResultSet object has no attribute 'find_all'. You're probably treating a list of elements like a single element. Did you call find_all() when you meant to call find()?"
     ]
    }
   ],
   "source": [
    "get_table_rows(tables, date)"
   ]
  },
  {
   "cell_type": "code",
   "execution_count": 24,
   "metadata": {},
   "outputs": [],
   "source": [
    "def get_table_data(table, date):\n",
    "    batters = {}\n",
    "    if len(table) > 0:\n",
    "        tr_tags = table.find_all('tr')\n",
    "        \n",
    "    else:\n",
    "        print(f'{date} has no data.')\n",
    "    \n",
    "    return tr_tags"
   ]
  },
  {
   "cell_type": "code",
   "execution_count": 28,
   "metadata": {},
   "outputs": [
    {
     "data": {
      "text/plain": [
       "[[<tr class=\"ds-text-right\"><th class=\"ds-w-0 ds-whitespace-nowrap ds-min-w-max ds-text-left\">BATTING</th><th class=\"ds-min-w-max\"> </th><th class=\"ds-w-0 ds-whitespace-nowrap ds-min-w-max\">R</th><th class=\"ds-w-0 ds-whitespace-nowrap ds-min-w-max\">B</th><th class=\"ds-w-0 ds-whitespace-nowrap ds-min-w-max\">M</th><th class=\"ds-w-0 ds-whitespace-nowrap ds-min-w-max\">4s</th><th class=\"ds-w-0 ds-whitespace-nowrap ds-min-w-max\">6s</th><th class=\"ds-w-0 ds-whitespace-nowrap ds-min-w-max\">SR</th></tr>,\n",
       "  <tr class=\"\"><td class=\"ds-w-0 ds-whitespace-nowrap ds-min-w-max ds-flex ds-items-center\"><a class=\"ds-inline-flex ds-items-start ds-leading-none\" href=\"/cricketers/ruturaj-gaikwad-1060380\" title=\"Ruturaj Gaikwad\"><span class=\"ds-text-tight-s ds-font-medium ds-text-typo ds-underline ds-decoration-ui-stroke hover:ds-text-typo-primary hover:ds-decoration-ui-stroke-primary ds-block\"><span>Ruturaj Gaikwad<!-- --> </span></span></a></td><td class=\"ds-min-w-max !ds-pl-[100px]\"><span class=\"ds-flex ds-cursor-pointer ds-items-center\"><i class=\"icon-keyboard_arrow_down-outlined ds-text-icon-primary ds-inline-flex ds-items-center\" style=\"font-size:16px\"></i><span>c Rana b Yadav</span></span></td><td class=\"ds-w-0 ds-whitespace-nowrap ds-min-w-max ds-text-right\"><strong>0</strong></td><td class=\"ds-w-0 ds-whitespace-nowrap ds-min-w-max ds-text-right\">4</td><td class=\"ds-w-0 ds-whitespace-nowrap ds-min-w-max ds-text-right\">5</td><td class=\"ds-w-0 ds-whitespace-nowrap ds-min-w-max ds-text-right\">0</td><td class=\"ds-w-0 ds-whitespace-nowrap ds-min-w-max ds-text-right\">0</td><td class=\"ds-w-0 ds-whitespace-nowrap ds-min-w-max ds-text-right\">0.00</td></tr>,\n",
       "  <tr class=\"ds-hidden\"><td class=\"\" colspan=\"9\"></td></tr>,\n",
       "  <tr class=\"\"><td class=\"ds-w-0 ds-whitespace-nowrap ds-min-w-max ds-flex ds-items-center\"><a class=\"ds-inline-flex ds-items-start ds-leading-none\" href=\"/cricketers/devon-conway-379140\" title=\"Devon Conway\"><span class=\"ds-text-tight-s ds-font-medium ds-text-typo ds-underline ds-decoration-ui-stroke hover:ds-text-typo-primary hover:ds-decoration-ui-stroke-primary ds-block\"><span>Devon Conway<!-- --> </span></span></a></td><td class=\"ds-min-w-max !ds-pl-[100px]\"><span class=\"ds-flex ds-cursor-pointer ds-items-center\"><i class=\"icon-keyboard_arrow_down-outlined ds-text-icon-primary ds-inline-flex ds-items-center\" style=\"font-size:16px\"></i><span>c SS Iyer b Yadav</span></span></td><td class=\"ds-w-0 ds-whitespace-nowrap ds-min-w-max ds-text-right\"><strong>3</strong></td><td class=\"ds-w-0 ds-whitespace-nowrap ds-min-w-max ds-text-right\">8</td><td class=\"ds-w-0 ds-whitespace-nowrap ds-min-w-max ds-text-right\">25</td><td class=\"ds-w-0 ds-whitespace-nowrap ds-min-w-max ds-text-right\">0</td><td class=\"ds-w-0 ds-whitespace-nowrap ds-min-w-max ds-text-right\">0</td><td class=\"ds-w-0 ds-whitespace-nowrap ds-min-w-max ds-text-right\">37.50</td></tr>,\n",
       "  <tr class=\"ds-hidden\"><td class=\"\" colspan=\"9\"></td></tr>,\n",
       "  <tr class=\"\"><td class=\"ds-w-0 ds-whitespace-nowrap ds-min-w-max ds-flex ds-items-center\"><a class=\"ds-inline-flex ds-items-start ds-leading-none\" href=\"/cricketers/robin-uthappa-35582\" title=\"Robin Uthappa\"><span class=\"ds-text-tight-s ds-font-medium ds-text-typo ds-underline ds-decoration-ui-stroke hover:ds-text-typo-primary hover:ds-decoration-ui-stroke-primary ds-block\"><span>Robin Uthappa<!-- --> </span></span></a></td><td class=\"ds-min-w-max !ds-pl-[100px]\"><span class=\"ds-flex ds-cursor-pointer ds-items-center\"><i class=\"icon-keyboard_arrow_down-outlined ds-text-icon-primary ds-inline-flex ds-items-center\" style=\"font-size:16px\"></i><span>st †Jackson b Varun</span></span></td><td class=\"ds-w-0 ds-whitespace-nowrap ds-min-w-max ds-text-right\"><strong>28</strong></td><td class=\"ds-w-0 ds-whitespace-nowrap ds-min-w-max ds-text-right\">21</td><td class=\"ds-w-0 ds-whitespace-nowrap ds-min-w-max ds-text-right\">37</td><td class=\"ds-w-0 ds-whitespace-nowrap ds-min-w-max ds-text-right\">2</td><td class=\"ds-w-0 ds-whitespace-nowrap ds-min-w-max ds-text-right\">2</td><td class=\"ds-w-0 ds-whitespace-nowrap ds-min-w-max ds-text-right\">133.33</td></tr>,\n",
       "  <tr class=\"ds-hidden\"><td class=\"\" colspan=\"9\"></td></tr>,\n",
       "  <tr class=\"\"><td class=\"ds-w-0 ds-whitespace-nowrap ds-min-w-max ds-flex ds-items-center\"><a class=\"ds-inline-flex ds-items-start ds-leading-none\" href=\"/cricketers/ambati-rayudu-33141\" title=\"Ambati Rayudu\"><span class=\"ds-text-tight-s ds-font-medium ds-text-typo ds-underline ds-decoration-ui-stroke hover:ds-text-typo-primary hover:ds-decoration-ui-stroke-primary ds-block\"><span>Ambati Rayudu<!-- --> </span></span></a></td><td class=\"ds-min-w-max !ds-pl-[100px]\"><span class=\"ds-flex ds-cursor-pointer ds-items-center\"><i class=\"icon-keyboard_arrow_down-outlined ds-text-icon-primary ds-inline-flex ds-items-center\" style=\"font-size:16px\"></i><span>run out (SS Iyer/Narine)</span></span></td><td class=\"ds-w-0 ds-whitespace-nowrap ds-min-w-max ds-text-right\"><strong>15</strong></td><td class=\"ds-w-0 ds-whitespace-nowrap ds-min-w-max ds-text-right\">17</td><td class=\"ds-w-0 ds-whitespace-nowrap ds-min-w-max ds-text-right\">22</td><td class=\"ds-w-0 ds-whitespace-nowrap ds-min-w-max ds-text-right\">1</td><td class=\"ds-w-0 ds-whitespace-nowrap ds-min-w-max ds-text-right\">1</td><td class=\"ds-w-0 ds-whitespace-nowrap ds-min-w-max ds-text-right\">88.23</td></tr>,\n",
       "  <tr class=\"ds-hidden\"><td class=\"\" colspan=\"9\"></td></tr>,\n",
       "  <tr class=\"\"><td class=\"ds-w-0 ds-whitespace-nowrap ds-min-w-max ds-flex ds-items-center ds-border-line-primary ci-scorecard-player-notout\"><a class=\"ds-inline-flex ds-items-start ds-leading-none\" href=\"/cricketers/ravindra-jadeja-234675\" title=\"Ravindra Jadeja\"><span class=\"ds-text-tight-s ds-font-medium ds-text-typo ds-underline ds-decoration-ui-stroke hover:ds-text-typo-primary hover:ds-decoration-ui-stroke-primary ds-block\"><span>Ravindra Jadeja<!-- --> <span>(c)</span></span></span></a></td><td class=\"ds-min-w-max !ds-pl-[100px]\">not out </td><td class=\"ds-w-0 ds-whitespace-nowrap ds-min-w-max ds-text-right\"><strong>26</strong></td><td class=\"ds-w-0 ds-whitespace-nowrap ds-min-w-max ds-text-right\">28</td><td class=\"ds-w-0 ds-whitespace-nowrap ds-min-w-max ds-text-right\">63</td><td class=\"ds-w-0 ds-whitespace-nowrap ds-min-w-max ds-text-right\">0</td><td class=\"ds-w-0 ds-whitespace-nowrap ds-min-w-max ds-text-right\">1</td><td class=\"ds-w-0 ds-whitespace-nowrap ds-min-w-max ds-text-right\">92.85</td></tr>,\n",
       "  <tr class=\"\"><td class=\"ds-w-0 ds-whitespace-nowrap ds-min-w-max ds-flex ds-items-center\"><a class=\"ds-inline-flex ds-items-start ds-leading-none\" href=\"/cricketers/shivam-dube-714451\" title=\"Shivam Dube\"><span class=\"ds-text-tight-s ds-font-medium ds-text-typo ds-underline ds-decoration-ui-stroke hover:ds-text-typo-primary hover:ds-decoration-ui-stroke-primary ds-block\"><span>Shivam Dube<!-- --> </span></span></a></td><td class=\"ds-min-w-max !ds-pl-[100px]\"><span class=\"ds-flex ds-cursor-pointer ds-items-center\"><i class=\"icon-keyboard_arrow_down-outlined ds-text-icon-primary ds-inline-flex ds-items-center\" style=\"font-size:16px\"></i><span>c Narine b Russell</span></span></td><td class=\"ds-w-0 ds-whitespace-nowrap ds-min-w-max ds-text-right\"><strong>3</strong></td><td class=\"ds-w-0 ds-whitespace-nowrap ds-min-w-max ds-text-right\">6</td><td class=\"ds-w-0 ds-whitespace-nowrap ds-min-w-max ds-text-right\">11</td><td class=\"ds-w-0 ds-whitespace-nowrap ds-min-w-max ds-text-right\">0</td><td class=\"ds-w-0 ds-whitespace-nowrap ds-min-w-max ds-text-right\">0</td><td class=\"ds-w-0 ds-whitespace-nowrap ds-min-w-max ds-text-right\">50.00</td></tr>,\n",
       "  <tr class=\"ds-hidden\"><td class=\"\" colspan=\"9\"></td></tr>,\n",
       "  <tr class=\"\"><td class=\"ds-w-0 ds-whitespace-nowrap ds-min-w-max ds-flex ds-items-center ds-border-line-primary ci-scorecard-player-notout\"><a class=\"ds-inline-flex ds-items-start ds-leading-none\" href=\"/cricketers/ms-dhoni-28081\" title=\"MS Dhoni\"><span class=\"ds-text-tight-s ds-font-medium ds-text-typo ds-underline ds-decoration-ui-stroke hover:ds-text-typo-primary hover:ds-decoration-ui-stroke-primary ds-block\"><span>MS Dhoni<!-- --> <span>†</span></span></span></a></td><td class=\"ds-min-w-max !ds-pl-[100px]\">not out </td><td class=\"ds-w-0 ds-whitespace-nowrap ds-min-w-max ds-text-right\"><strong>50</strong></td><td class=\"ds-w-0 ds-whitespace-nowrap ds-min-w-max ds-text-right\">38</td><td class=\"ds-w-0 ds-whitespace-nowrap ds-min-w-max ds-text-right\">47</td><td class=\"ds-w-0 ds-whitespace-nowrap ds-min-w-max ds-text-right\">7</td><td class=\"ds-w-0 ds-whitespace-nowrap ds-min-w-max ds-text-right\">1</td><td class=\"ds-w-0 ds-whitespace-nowrap ds-min-w-max ds-text-right\">131.57</td></tr>,\n",
       "  <tr class=\"ds-text-tight-s\"><td class=\"ds-min-w-max\" colspan=\"1\">Extras</td><td class=\"ds-min-w-max !ds-pl-[100px]\">(nb 2, w 4)</td><td class=\"ds-min-w-max ds-text-right\" colspan=\"1\"><strong>6</strong></td><td class=\"ds-text-right\" colspan=\"7\"></td></tr>,\n",
       "  <tr class=\"\"><td class=\"ds-font-bold ds-bg-fill-content-alternate ds-text-tight-m ds-min-w-max\" colspan=\"1\">TOTAL</td><td class=\"ds-font-bold ds-bg-fill-content-alternate ds-text-tight-m ds-min-w-max ds-flex ds-items-center !ds-pl-[100px]\"><span class=\"ds-font-regular ds-text-tight-s\">20 Ov</span><span class=\"ds-font-regular ds-text-tight-s\"> <!-- -->(RR: 6.55)</span><i class=\"icon-blank_placeholder ds-text-icon\" style=\"font-size:20px\"></i></td><td class=\"ds-font-bold ds-bg-fill-content-alternate ds-text-tight-m ds-min-w-max ds-text-right\" colspan=\"1\">131<!-- -->/5</td><td class=\"ds-font-bold ds-bg-fill-content-alternate ds-text-tight-m ds-text-right !ds-font-regular\" colspan=\"7\"><div></div></td></tr>,\n",
       "  <tr class=\"!ds-border-b-0\"><td class=\"!ds-py-2\" colspan=\"9\"><div class=\"ds-text-tight-s ds-font-regular ds-leading-4\"><strong>Did not bat: </strong><a class=\"ds-inline-flex ds-items-start ds-leading-none\" href=\"/cricketers/dwayne-bravo-51439\"><span class=\"ds-text-tight-s ds-font-medium ds-text-typo ds-underline ds-decoration-ui-stroke hover:ds-text-typo-primary hover:ds-decoration-ui-stroke-primary ds-block ds-mr-1\"><span>Dwayne Bravo<!-- -->,<!-- --> </span></span></a><a class=\"ds-inline-flex ds-items-start ds-leading-none\" href=\"/cricketers/mitchell-santner-502714\"><span class=\"ds-text-tight-s ds-font-medium ds-text-typo ds-underline ds-decoration-ui-stroke hover:ds-text-typo-primary hover:ds-decoration-ui-stroke-primary ds-block ds-mr-1\"><span>Mitchell Santner<!-- -->,<!-- --> </span></span></a><a class=\"ds-inline-flex ds-items-start ds-leading-none\" href=\"/cricketers/adam-milne-450860\"><span class=\"ds-text-tight-s ds-font-medium ds-text-typo ds-underline ds-decoration-ui-stroke hover:ds-text-typo-primary hover:ds-decoration-ui-stroke-primary ds-block ds-mr-1\"><span>Adam Milne<!-- -->,<!-- --> </span></span></a><a class=\"ds-inline-flex ds-items-start ds-leading-none\" href=\"/cricketers/tushar-deshpande-822553\"><span class=\"ds-text-tight-s ds-font-medium ds-text-typo ds-underline ds-decoration-ui-stroke hover:ds-text-typo-primary hover:ds-decoration-ui-stroke-primary ds-block ds-mr-1\"><span>Tushar Deshpande<!-- --> </span></span></a></div></td></tr>,\n",
       "  <tr class=\"\"><td class=\"\" colspan=\"9\"><div class=\"ds-text-tight-s ds-font-regular ds-leading-4\"><strong>Fall of wickets<!-- -->: </strong><span>1<!-- -->-<!-- -->2<!-- --> (<!-- -->Ruturaj Gaikwad<!-- -->, 0.3 ov<!-- -->)</span><span>, <!-- -->2<!-- -->-<!-- -->28<!-- --> (<!-- -->Devon Conway<!-- -->, 4.1 ov<!-- -->)</span><span>, <!-- -->3<!-- -->-<!-- -->49<!-- --> (<!-- -->Robin Uthappa<!-- -->, 7.5 ov<!-- -->)</span><span>, <!-- -->4<!-- -->-<!-- -->52<!-- --> (<!-- -->Ambati Rayudu<!-- -->, 8.4 ov<!-- -->)</span><span>, <!-- -->5<!-- -->-<!-- -->61<!-- --> (<!-- -->Shivam Dube<!-- -->, 10.5 ov<!-- -->)</span></div></td></tr>],\n",
       " [<tr class=\"ds-text-right\"><th class=\"ds-w-0 ds-whitespace-nowrap ds-min-w-max ds-text-left\">BATTING</th><th class=\"ds-min-w-max\"> </th><th class=\"ds-w-0 ds-whitespace-nowrap ds-min-w-max\">R</th><th class=\"ds-w-0 ds-whitespace-nowrap ds-min-w-max\">B</th><th class=\"ds-w-0 ds-whitespace-nowrap ds-min-w-max\">M</th><th class=\"ds-w-0 ds-whitespace-nowrap ds-min-w-max\">4s</th><th class=\"ds-w-0 ds-whitespace-nowrap ds-min-w-max\">6s</th><th class=\"ds-w-0 ds-whitespace-nowrap ds-min-w-max\">SR</th></tr>,\n",
       "  <tr class=\"\"><td class=\"ds-w-0 ds-whitespace-nowrap ds-min-w-max ds-flex ds-items-center\"><a class=\"ds-inline-flex ds-items-start ds-leading-none\" href=\"/cricketers/ajinkya-rahane-277916\" title=\"Ajinkya Rahane\"><span class=\"ds-text-tight-s ds-font-medium ds-text-typo ds-underline ds-decoration-ui-stroke hover:ds-text-typo-primary hover:ds-decoration-ui-stroke-primary ds-block\"><span>Ajinkya Rahane<!-- --> </span></span></a></td><td class=\"ds-min-w-max !ds-pl-[100px]\"><span class=\"ds-flex ds-cursor-pointer ds-items-center\"><i class=\"icon-keyboard_arrow_down-outlined ds-text-icon-primary ds-inline-flex ds-items-center\" style=\"font-size:16px\"></i><span>c Jadeja b Santner</span></span></td><td class=\"ds-w-0 ds-whitespace-nowrap ds-min-w-max ds-text-right\"><strong>44</strong></td><td class=\"ds-w-0 ds-whitespace-nowrap ds-min-w-max ds-text-right\">34</td><td class=\"ds-w-0 ds-whitespace-nowrap ds-min-w-max ds-text-right\">56</td><td class=\"ds-w-0 ds-whitespace-nowrap ds-min-w-max ds-text-right\">6</td><td class=\"ds-w-0 ds-whitespace-nowrap ds-min-w-max ds-text-right\">1</td><td class=\"ds-w-0 ds-whitespace-nowrap ds-min-w-max ds-text-right\">129.41</td></tr>,\n",
       "  <tr class=\"ds-hidden\"><td class=\"\" colspan=\"9\"></td></tr>,\n",
       "  <tr class=\"\"><td class=\"ds-w-0 ds-whitespace-nowrap ds-min-w-max ds-flex ds-items-center\"><a class=\"ds-inline-flex ds-items-start ds-leading-none\" href=\"/cricketers/venkatesh-iyer-851403\" title=\"Venkatesh Iyer\"><span class=\"ds-text-tight-s ds-font-medium ds-text-typo ds-underline ds-decoration-ui-stroke hover:ds-text-typo-primary hover:ds-decoration-ui-stroke-primary ds-block\"><span>Venkatesh Iyer<!-- --> </span></span></a></td><td class=\"ds-min-w-max !ds-pl-[100px]\"><span class=\"ds-flex ds-cursor-pointer ds-items-center\"><i class=\"icon-keyboard_arrow_down-outlined ds-text-icon-primary ds-inline-flex ds-items-center\" style=\"font-size:16px\"></i><span>c †Dhoni b Bravo</span></span></td><td class=\"ds-w-0 ds-whitespace-nowrap ds-min-w-max ds-text-right\"><strong>16</strong></td><td class=\"ds-w-0 ds-whitespace-nowrap ds-min-w-max ds-text-right\">16</td><td class=\"ds-w-0 ds-whitespace-nowrap ds-min-w-max ds-text-right\">31</td><td class=\"ds-w-0 ds-whitespace-nowrap ds-min-w-max ds-text-right\">2</td><td class=\"ds-w-0 ds-whitespace-nowrap ds-min-w-max ds-text-right\">0</td><td class=\"ds-w-0 ds-whitespace-nowrap ds-min-w-max ds-text-right\">100.00</td></tr>,\n",
       "  <tr class=\"ds-hidden\"><td class=\"\" colspan=\"9\"></td></tr>,\n",
       "  <tr class=\"\"><td class=\"ds-w-0 ds-whitespace-nowrap ds-min-w-max ds-flex ds-items-center\"><a class=\"ds-inline-flex ds-items-start ds-leading-none\" href=\"/cricketers/nitish-rana-604527\" title=\"Nitish Rana\"><span class=\"ds-text-tight-s ds-font-medium ds-text-typo ds-underline ds-decoration-ui-stroke hover:ds-text-typo-primary hover:ds-decoration-ui-stroke-primary ds-block\"><span>Nitish Rana<!-- --> </span></span></a></td><td class=\"ds-min-w-max !ds-pl-[100px]\"><span class=\"ds-flex ds-cursor-pointer ds-items-center\"><i class=\"icon-keyboard_arrow_down-outlined ds-text-icon-primary ds-inline-flex ds-items-center\" style=\"font-size:16px\"></i><span>c Rayudu b Bravo</span></span></td><td class=\"ds-w-0 ds-whitespace-nowrap ds-min-w-max ds-text-right\"><strong>21</strong></td><td class=\"ds-w-0 ds-whitespace-nowrap ds-min-w-max ds-text-right\">17</td><td class=\"ds-w-0 ds-whitespace-nowrap ds-min-w-max ds-text-right\">19</td><td class=\"ds-w-0 ds-whitespace-nowrap ds-min-w-max ds-text-right\">2</td><td class=\"ds-w-0 ds-whitespace-nowrap ds-min-w-max ds-text-right\">1</td><td class=\"ds-w-0 ds-whitespace-nowrap ds-min-w-max ds-text-right\">123.52</td></tr>,\n",
       "  <tr class=\"ds-hidden\"><td class=\"\" colspan=\"9\"></td></tr>,\n",
       "  <tr class=\"\"><td class=\"ds-w-0 ds-whitespace-nowrap ds-min-w-max ds-flex ds-items-center ds-border-line-primary ci-scorecard-player-notout\"><a class=\"ds-inline-flex ds-items-start ds-leading-none\" href=\"/cricketers/shreyas-iyer-642519\" title=\"Shreyas Iyer\"><span class=\"ds-text-tight-s ds-font-medium ds-text-typo ds-underline ds-decoration-ui-stroke hover:ds-text-typo-primary hover:ds-decoration-ui-stroke-primary ds-block\"><span>Shreyas Iyer<!-- --> <span>(c)</span></span></span></a></td><td class=\"ds-min-w-max !ds-pl-[100px]\">not out </td><td class=\"ds-w-0 ds-whitespace-nowrap ds-min-w-max ds-text-right\"><strong>20</strong></td><td class=\"ds-w-0 ds-whitespace-nowrap ds-min-w-max ds-text-right\">19</td><td class=\"ds-w-0 ds-whitespace-nowrap ds-min-w-max ds-text-right\">36</td><td class=\"ds-w-0 ds-whitespace-nowrap ds-min-w-max ds-text-right\">1</td><td class=\"ds-w-0 ds-whitespace-nowrap ds-min-w-max ds-text-right\">0</td><td class=\"ds-w-0 ds-whitespace-nowrap ds-min-w-max ds-text-right\">105.26</td></tr>,\n",
       "  <tr class=\"\"><td class=\"ds-w-0 ds-whitespace-nowrap ds-min-w-max ds-flex ds-items-center\"><a class=\"ds-inline-flex ds-items-start ds-leading-none\" href=\"/cricketers/sam-billings-297628\" title=\"Sam Billings\"><span class=\"ds-text-tight-s ds-font-medium ds-text-typo ds-underline ds-decoration-ui-stroke hover:ds-text-typo-primary hover:ds-decoration-ui-stroke-primary ds-block\"><span>Sam Billings<!-- --> </span></span></a></td><td class=\"ds-min-w-max !ds-pl-[100px]\"><span class=\"ds-flex ds-cursor-pointer ds-items-center\"><i class=\"icon-keyboard_arrow_down-outlined ds-text-icon-primary ds-inline-flex ds-items-center\" style=\"font-size:16px\"></i><span>c Deshpande b Bravo</span></span></td><td class=\"ds-w-0 ds-whitespace-nowrap ds-min-w-max ds-text-right\"><strong>25</strong></td><td class=\"ds-w-0 ds-whitespace-nowrap ds-min-w-max ds-text-right\">22</td><td class=\"ds-w-0 ds-whitespace-nowrap ds-min-w-max ds-text-right\">25</td><td class=\"ds-w-0 ds-whitespace-nowrap ds-min-w-max ds-text-right\">1</td><td class=\"ds-w-0 ds-whitespace-nowrap ds-min-w-max ds-text-right\">1</td><td class=\"ds-w-0 ds-whitespace-nowrap ds-min-w-max ds-text-right\">113.63</td></tr>,\n",
       "  <tr class=\"ds-hidden\"><td class=\"\" colspan=\"9\"></td></tr>,\n",
       "  <tr class=\"\"><td class=\"ds-w-0 ds-whitespace-nowrap ds-min-w-max ds-flex ds-items-center ds-border-line-primary ci-scorecard-player-notout\"><a class=\"ds-inline-flex ds-items-start ds-leading-none\" href=\"/cricketers/sheldon-jackson-237696\" title=\"Sheldon Jackson\"><span class=\"ds-text-tight-s ds-font-medium ds-text-typo ds-underline ds-decoration-ui-stroke hover:ds-text-typo-primary hover:ds-decoration-ui-stroke-primary ds-block\"><span>Sheldon Jackson<!-- --> <span>†</span></span></span></a></td><td class=\"ds-min-w-max !ds-pl-[100px]\">not out </td><td class=\"ds-w-0 ds-whitespace-nowrap ds-min-w-max ds-text-right\"><strong>3</strong></td><td class=\"ds-w-0 ds-whitespace-nowrap ds-min-w-max ds-text-right\">3</td><td class=\"ds-w-0 ds-whitespace-nowrap ds-min-w-max ds-text-right\">6</td><td class=\"ds-w-0 ds-whitespace-nowrap ds-min-w-max ds-text-right\">0</td><td class=\"ds-w-0 ds-whitespace-nowrap ds-min-w-max ds-text-right\">0</td><td class=\"ds-w-0 ds-whitespace-nowrap ds-min-w-max ds-text-right\">100.00</td></tr>,\n",
       "  <tr class=\"ds-text-tight-s\"><td class=\"ds-min-w-max\" colspan=\"1\">Extras</td><td class=\"ds-min-w-max !ds-pl-[100px]\">(b 4)</td><td class=\"ds-min-w-max ds-text-right\" colspan=\"1\"><strong>4</strong></td><td class=\"ds-text-right\" colspan=\"7\"></td></tr>,\n",
       "  <tr class=\"\"><td class=\"ds-font-bold ds-bg-fill-content-alternate ds-text-tight-m ds-min-w-max\" colspan=\"1\">TOTAL</td><td class=\"ds-font-bold ds-bg-fill-content-alternate ds-text-tight-m ds-min-w-max ds-flex ds-items-center !ds-pl-[100px]\"><span class=\"ds-font-regular ds-text-tight-s\">18.3 Ov</span><span class=\"ds-font-regular ds-text-tight-s\"> <!-- -->(RR: 7.18)</span><i class=\"icon-blank_placeholder ds-text-icon\" style=\"font-size:20px\"></i></td><td class=\"ds-font-bold ds-bg-fill-content-alternate ds-text-tight-m ds-min-w-max ds-text-right\" colspan=\"1\">133<!-- -->/4</td><td class=\"ds-font-bold ds-bg-fill-content-alternate ds-text-tight-m ds-text-right !ds-font-regular\" colspan=\"7\"><div></div></td></tr>,\n",
       "  <tr class=\"!ds-border-b-0\"><td class=\"!ds-py-2\" colspan=\"9\"><div class=\"ds-text-tight-s ds-font-regular ds-leading-4\"><strong>Did not bat: </strong><a class=\"ds-inline-flex ds-items-start ds-leading-none\" href=\"/cricketers/andre-russell-276298\"><span class=\"ds-text-tight-s ds-font-medium ds-text-typo ds-underline ds-decoration-ui-stroke hover:ds-text-typo-primary hover:ds-decoration-ui-stroke-primary ds-block ds-mr-1\"><span>Andre Russell<!-- -->,<!-- --> </span></span></a><a class=\"ds-inline-flex ds-items-start ds-leading-none\" href=\"/cricketers/sunil-narine-230558\"><span class=\"ds-text-tight-s ds-font-medium ds-text-typo ds-underline ds-decoration-ui-stroke hover:ds-text-typo-primary hover:ds-decoration-ui-stroke-primary ds-block ds-mr-1\"><span>Sunil Narine<!-- -->,<!-- --> </span></span></a><a class=\"ds-inline-flex ds-items-start ds-leading-none\" href=\"/cricketers/umesh-yadav-376116\"><span class=\"ds-text-tight-s ds-font-medium ds-text-typo ds-underline ds-decoration-ui-stroke hover:ds-text-typo-primary hover:ds-decoration-ui-stroke-primary ds-block ds-mr-1\"><span>Umesh Yadav<!-- -->,<!-- --> </span></span></a><a class=\"ds-inline-flex ds-items-start ds-leading-none\" href=\"/cricketers/shivam-mavi-1079848\"><span class=\"ds-text-tight-s ds-font-medium ds-text-typo ds-underline ds-decoration-ui-stroke hover:ds-text-typo-primary hover:ds-decoration-ui-stroke-primary ds-block ds-mr-1\"><span>Shivam Mavi<!-- -->,<!-- --> </span></span></a><a class=\"ds-inline-flex ds-items-start ds-leading-none\" href=\"/cricketers/varun-chakravarthy-1108375\"><span class=\"ds-text-tight-s ds-font-medium ds-text-typo ds-underline ds-decoration-ui-stroke hover:ds-text-typo-primary hover:ds-decoration-ui-stroke-primary ds-block ds-mr-1\"><span>Varun Chakravarthy<!-- --> </span></span></a></div></td></tr>,\n",
       "  <tr class=\"\"><td class=\"\" colspan=\"9\"><div class=\"ds-text-tight-s ds-font-regular ds-leading-4\"><strong>Fall of wickets<!-- -->: </strong><span>1<!-- -->-<!-- -->43<!-- --> (<!-- -->Venkatesh Iyer<!-- -->, 6.2 ov<!-- -->)</span><span>, <!-- -->2<!-- -->-<!-- -->76<!-- --> (<!-- -->Nitish Rana<!-- -->, 9.6 ov<!-- -->)</span><span>, <!-- -->3<!-- -->-<!-- -->87<!-- --> (<!-- -->Ajinkya Rahane<!-- -->, 11.4 ov<!-- -->)</span><span>, <!-- -->4<!-- -->-<!-- -->123<!-- --> (<!-- -->Sam Billings<!-- -->, 17.3 ov<!-- -->)</span></div></td></tr>]]"
      ]
     },
     "execution_count": 28,
     "metadata": {},
     "output_type": "execute_result"
    }
   ],
   "source": [
    "[get_table_data(table, date) for table in tables]"
   ]
  },
  {
   "cell_type": "code",
   "execution_count": 36,
   "metadata": {},
   "outputs": [],
   "source": [
    "link = 'https://www.espncricinfo.com/series/indian-premier-league-2022-1298423/chennai-super-kings-vs-kolkata-knight-riders-1st-match-1304047/full-scorecard'\n",
    "web = get_page(link)\n",
    "soup = get_soup(web)\n"
   ]
  },
  {
   "cell_type": "code",
   "execution_count": 37,
   "metadata": {},
   "outputs": [],
   "source": [
    "def get_batting_tables(soup):\n",
    "    tables = soup.find_all('table')\n",
    "    batting_tables = []\n",
    "    for table in tables:\n",
    "        print(table)\n",
    "        if 'BATTING' in table.text:\n",
    "            parent_table = table.find_parent('table')\n",
    "            if parent_table:\n",
    "                batting_tables.append(parent_table)\n",
    "    return batting_tables\n"
   ]
  },
  {
   "cell_type": "code",
   "execution_count": 38,
   "metadata": {},
   "outputs": [
    {
     "data": {
      "text/plain": [
       "[]"
      ]
     },
     "execution_count": 38,
     "metadata": {},
     "output_type": "execute_result"
    }
   ],
   "source": [
    "get_batting_tables(soup)"
   ]
  },
  {
   "cell_type": "code",
   "execution_count": 33,
   "metadata": {},
   "outputs": [],
   "source": [
    "def get_batting_tables(soup):\n",
    "    return soup.find_all('table', class_=re.compile('ds-w-full ds-table ds-table-md ds-table-auto ci-scorecard-table'))"
   ]
  },
  {
   "cell_type": "code",
   "execution_count": 34,
   "metadata": {},
   "outputs": [
    {
     "data": {
      "text/plain": [
       "[<table class=\"ds-w-full ds-table ds-table-md ds-table-auto ci-scorecard-table\"><thead class=\"ds-bg-fill-content-alternate ds-text-left\"><tr class=\"ds-text-right\"><th class=\"ds-w-0 ds-whitespace-nowrap ds-min-w-max ds-text-left\">BATTING</th><th class=\"ds-min-w-max\"> </th><th class=\"ds-w-0 ds-whitespace-nowrap ds-min-w-max\">R</th><th class=\"ds-w-0 ds-whitespace-nowrap ds-min-w-max\">B</th><th class=\"ds-w-0 ds-whitespace-nowrap ds-min-w-max\">M</th><th class=\"ds-w-0 ds-whitespace-nowrap ds-min-w-max\">4s</th><th class=\"ds-w-0 ds-whitespace-nowrap ds-min-w-max\">6s</th><th class=\"ds-w-0 ds-whitespace-nowrap ds-min-w-max\">SR</th></tr></thead><tbody class=\"\"><tr class=\"\"><td class=\"ds-w-0 ds-whitespace-nowrap ds-min-w-max ds-flex ds-items-center\"><a class=\"ds-inline-flex ds-items-start ds-leading-none\" href=\"/cricketers/ruturaj-gaikwad-1060380\" title=\"Ruturaj Gaikwad\"><span class=\"ds-text-tight-s ds-font-medium ds-text-typo ds-underline ds-decoration-ui-stroke hover:ds-text-typo-primary hover:ds-decoration-ui-stroke-primary ds-block\"><span>Ruturaj Gaikwad<!-- --> </span></span></a></td><td class=\"ds-min-w-max !ds-pl-[100px]\"><span class=\"ds-flex ds-cursor-pointer ds-items-center\"><i class=\"icon-keyboard_arrow_down-outlined ds-text-icon-primary ds-inline-flex ds-items-center\" style=\"font-size:16px\"></i><span>c Rana b Yadav</span></span></td><td class=\"ds-w-0 ds-whitespace-nowrap ds-min-w-max ds-text-right\"><strong>0</strong></td><td class=\"ds-w-0 ds-whitespace-nowrap ds-min-w-max ds-text-right\">4</td><td class=\"ds-w-0 ds-whitespace-nowrap ds-min-w-max ds-text-right\">5</td><td class=\"ds-w-0 ds-whitespace-nowrap ds-min-w-max ds-text-right\">0</td><td class=\"ds-w-0 ds-whitespace-nowrap ds-min-w-max ds-text-right\">0</td><td class=\"ds-w-0 ds-whitespace-nowrap ds-min-w-max ds-text-right\">0.00</td></tr><tr class=\"ds-hidden\"><td class=\"\" colspan=\"9\"></td></tr><tr class=\"\"><td class=\"ds-w-0 ds-whitespace-nowrap ds-min-w-max ds-flex ds-items-center\"><a class=\"ds-inline-flex ds-items-start ds-leading-none\" href=\"/cricketers/devon-conway-379140\" title=\"Devon Conway\"><span class=\"ds-text-tight-s ds-font-medium ds-text-typo ds-underline ds-decoration-ui-stroke hover:ds-text-typo-primary hover:ds-decoration-ui-stroke-primary ds-block\"><span>Devon Conway<!-- --> </span></span></a></td><td class=\"ds-min-w-max !ds-pl-[100px]\"><span class=\"ds-flex ds-cursor-pointer ds-items-center\"><i class=\"icon-keyboard_arrow_down-outlined ds-text-icon-primary ds-inline-flex ds-items-center\" style=\"font-size:16px\"></i><span>c SS Iyer b Yadav</span></span></td><td class=\"ds-w-0 ds-whitespace-nowrap ds-min-w-max ds-text-right\"><strong>3</strong></td><td class=\"ds-w-0 ds-whitespace-nowrap ds-min-w-max ds-text-right\">8</td><td class=\"ds-w-0 ds-whitespace-nowrap ds-min-w-max ds-text-right\">25</td><td class=\"ds-w-0 ds-whitespace-nowrap ds-min-w-max ds-text-right\">0</td><td class=\"ds-w-0 ds-whitespace-nowrap ds-min-w-max ds-text-right\">0</td><td class=\"ds-w-0 ds-whitespace-nowrap ds-min-w-max ds-text-right\">37.50</td></tr><tr class=\"ds-hidden\"><td class=\"\" colspan=\"9\"></td></tr><tr class=\"\"><td class=\"ds-w-0 ds-whitespace-nowrap ds-min-w-max ds-flex ds-items-center\"><a class=\"ds-inline-flex ds-items-start ds-leading-none\" href=\"/cricketers/robin-uthappa-35582\" title=\"Robin Uthappa\"><span class=\"ds-text-tight-s ds-font-medium ds-text-typo ds-underline ds-decoration-ui-stroke hover:ds-text-typo-primary hover:ds-decoration-ui-stroke-primary ds-block\"><span>Robin Uthappa<!-- --> </span></span></a></td><td class=\"ds-min-w-max !ds-pl-[100px]\"><span class=\"ds-flex ds-cursor-pointer ds-items-center\"><i class=\"icon-keyboard_arrow_down-outlined ds-text-icon-primary ds-inline-flex ds-items-center\" style=\"font-size:16px\"></i><span>st †Jackson b Varun</span></span></td><td class=\"ds-w-0 ds-whitespace-nowrap ds-min-w-max ds-text-right\"><strong>28</strong></td><td class=\"ds-w-0 ds-whitespace-nowrap ds-min-w-max ds-text-right\">21</td><td class=\"ds-w-0 ds-whitespace-nowrap ds-min-w-max ds-text-right\">37</td><td class=\"ds-w-0 ds-whitespace-nowrap ds-min-w-max ds-text-right\">2</td><td class=\"ds-w-0 ds-whitespace-nowrap ds-min-w-max ds-text-right\">2</td><td class=\"ds-w-0 ds-whitespace-nowrap ds-min-w-max ds-text-right\">133.33</td></tr><tr class=\"ds-hidden\"><td class=\"\" colspan=\"9\"></td></tr><tr class=\"\"><td class=\"ds-w-0 ds-whitespace-nowrap ds-min-w-max ds-flex ds-items-center\"><a class=\"ds-inline-flex ds-items-start ds-leading-none\" href=\"/cricketers/ambati-rayudu-33141\" title=\"Ambati Rayudu\"><span class=\"ds-text-tight-s ds-font-medium ds-text-typo ds-underline ds-decoration-ui-stroke hover:ds-text-typo-primary hover:ds-decoration-ui-stroke-primary ds-block\"><span>Ambati Rayudu<!-- --> </span></span></a></td><td class=\"ds-min-w-max !ds-pl-[100px]\"><span class=\"ds-flex ds-cursor-pointer ds-items-center\"><i class=\"icon-keyboard_arrow_down-outlined ds-text-icon-primary ds-inline-flex ds-items-center\" style=\"font-size:16px\"></i><span>run out (SS Iyer/Narine)</span></span></td><td class=\"ds-w-0 ds-whitespace-nowrap ds-min-w-max ds-text-right\"><strong>15</strong></td><td class=\"ds-w-0 ds-whitespace-nowrap ds-min-w-max ds-text-right\">17</td><td class=\"ds-w-0 ds-whitespace-nowrap ds-min-w-max ds-text-right\">22</td><td class=\"ds-w-0 ds-whitespace-nowrap ds-min-w-max ds-text-right\">1</td><td class=\"ds-w-0 ds-whitespace-nowrap ds-min-w-max ds-text-right\">1</td><td class=\"ds-w-0 ds-whitespace-nowrap ds-min-w-max ds-text-right\">88.23</td></tr><tr class=\"ds-hidden\"><td class=\"\" colspan=\"9\"></td></tr><tr class=\"\"><td class=\"ds-w-0 ds-whitespace-nowrap ds-min-w-max ds-flex ds-items-center ds-border-line-primary ci-scorecard-player-notout\"><a class=\"ds-inline-flex ds-items-start ds-leading-none\" href=\"/cricketers/ravindra-jadeja-234675\" title=\"Ravindra Jadeja\"><span class=\"ds-text-tight-s ds-font-medium ds-text-typo ds-underline ds-decoration-ui-stroke hover:ds-text-typo-primary hover:ds-decoration-ui-stroke-primary ds-block\"><span>Ravindra Jadeja<!-- --> <span>(c)</span></span></span></a></td><td class=\"ds-min-w-max !ds-pl-[100px]\">not out </td><td class=\"ds-w-0 ds-whitespace-nowrap ds-min-w-max ds-text-right\"><strong>26</strong></td><td class=\"ds-w-0 ds-whitespace-nowrap ds-min-w-max ds-text-right\">28</td><td class=\"ds-w-0 ds-whitespace-nowrap ds-min-w-max ds-text-right\">63</td><td class=\"ds-w-0 ds-whitespace-nowrap ds-min-w-max ds-text-right\">0</td><td class=\"ds-w-0 ds-whitespace-nowrap ds-min-w-max ds-text-right\">1</td><td class=\"ds-w-0 ds-whitespace-nowrap ds-min-w-max ds-text-right\">92.85</td></tr><tr class=\"\"><td class=\"ds-w-0 ds-whitespace-nowrap ds-min-w-max ds-flex ds-items-center\"><a class=\"ds-inline-flex ds-items-start ds-leading-none\" href=\"/cricketers/shivam-dube-714451\" title=\"Shivam Dube\"><span class=\"ds-text-tight-s ds-font-medium ds-text-typo ds-underline ds-decoration-ui-stroke hover:ds-text-typo-primary hover:ds-decoration-ui-stroke-primary ds-block\"><span>Shivam Dube<!-- --> </span></span></a></td><td class=\"ds-min-w-max !ds-pl-[100px]\"><span class=\"ds-flex ds-cursor-pointer ds-items-center\"><i class=\"icon-keyboard_arrow_down-outlined ds-text-icon-primary ds-inline-flex ds-items-center\" style=\"font-size:16px\"></i><span>c Narine b Russell</span></span></td><td class=\"ds-w-0 ds-whitespace-nowrap ds-min-w-max ds-text-right\"><strong>3</strong></td><td class=\"ds-w-0 ds-whitespace-nowrap ds-min-w-max ds-text-right\">6</td><td class=\"ds-w-0 ds-whitespace-nowrap ds-min-w-max ds-text-right\">11</td><td class=\"ds-w-0 ds-whitespace-nowrap ds-min-w-max ds-text-right\">0</td><td class=\"ds-w-0 ds-whitespace-nowrap ds-min-w-max ds-text-right\">0</td><td class=\"ds-w-0 ds-whitespace-nowrap ds-min-w-max ds-text-right\">50.00</td></tr><tr class=\"ds-hidden\"><td class=\"\" colspan=\"9\"></td></tr><tr class=\"\"><td class=\"ds-w-0 ds-whitespace-nowrap ds-min-w-max ds-flex ds-items-center ds-border-line-primary ci-scorecard-player-notout\"><a class=\"ds-inline-flex ds-items-start ds-leading-none\" href=\"/cricketers/ms-dhoni-28081\" title=\"MS Dhoni\"><span class=\"ds-text-tight-s ds-font-medium ds-text-typo ds-underline ds-decoration-ui-stroke hover:ds-text-typo-primary hover:ds-decoration-ui-stroke-primary ds-block\"><span>MS Dhoni<!-- --> <span>†</span></span></span></a></td><td class=\"ds-min-w-max !ds-pl-[100px]\">not out </td><td class=\"ds-w-0 ds-whitespace-nowrap ds-min-w-max ds-text-right\"><strong>50</strong></td><td class=\"ds-w-0 ds-whitespace-nowrap ds-min-w-max ds-text-right\">38</td><td class=\"ds-w-0 ds-whitespace-nowrap ds-min-w-max ds-text-right\">47</td><td class=\"ds-w-0 ds-whitespace-nowrap ds-min-w-max ds-text-right\">7</td><td class=\"ds-w-0 ds-whitespace-nowrap ds-min-w-max ds-text-right\">1</td><td class=\"ds-w-0 ds-whitespace-nowrap ds-min-w-max ds-text-right\">131.57</td></tr><tr class=\"ds-text-tight-s\"><td class=\"ds-min-w-max\" colspan=\"1\">Extras</td><td class=\"ds-min-w-max !ds-pl-[100px]\">(nb 2, w 4)</td><td class=\"ds-min-w-max ds-text-right\" colspan=\"1\"><strong>6</strong></td><td class=\"ds-text-right\" colspan=\"7\"></td></tr><tr class=\"\"><td class=\"ds-font-bold ds-bg-fill-content-alternate ds-text-tight-m ds-min-w-max\" colspan=\"1\">TOTAL</td><td class=\"ds-font-bold ds-bg-fill-content-alternate ds-text-tight-m ds-min-w-max ds-flex ds-items-center !ds-pl-[100px]\"><span class=\"ds-font-regular ds-text-tight-s\">20 Ov</span><span class=\"ds-font-regular ds-text-tight-s\"> <!-- -->(RR: 6.55)</span><i class=\"icon-blank_placeholder ds-text-icon\" style=\"font-size:20px\"></i></td><td class=\"ds-font-bold ds-bg-fill-content-alternate ds-text-tight-m ds-min-w-max ds-text-right\" colspan=\"1\">131<!-- -->/5</td><td class=\"ds-font-bold ds-bg-fill-content-alternate ds-text-tight-m ds-text-right !ds-font-regular\" colspan=\"7\"><div></div></td></tr><tr class=\"!ds-border-b-0\"><td class=\"!ds-py-2\" colspan=\"9\"><div class=\"ds-text-tight-s ds-font-regular ds-leading-4\"><strong>Did not bat: </strong><a class=\"ds-inline-flex ds-items-start ds-leading-none\" href=\"/cricketers/dwayne-bravo-51439\"><span class=\"ds-text-tight-s ds-font-medium ds-text-typo ds-underline ds-decoration-ui-stroke hover:ds-text-typo-primary hover:ds-decoration-ui-stroke-primary ds-block ds-mr-1\"><span>Dwayne Bravo<!-- -->,<!-- --> </span></span></a><a class=\"ds-inline-flex ds-items-start ds-leading-none\" href=\"/cricketers/mitchell-santner-502714\"><span class=\"ds-text-tight-s ds-font-medium ds-text-typo ds-underline ds-decoration-ui-stroke hover:ds-text-typo-primary hover:ds-decoration-ui-stroke-primary ds-block ds-mr-1\"><span>Mitchell Santner<!-- -->,<!-- --> </span></span></a><a class=\"ds-inline-flex ds-items-start ds-leading-none\" href=\"/cricketers/adam-milne-450860\"><span class=\"ds-text-tight-s ds-font-medium ds-text-typo ds-underline ds-decoration-ui-stroke hover:ds-text-typo-primary hover:ds-decoration-ui-stroke-primary ds-block ds-mr-1\"><span>Adam Milne<!-- -->,<!-- --> </span></span></a><a class=\"ds-inline-flex ds-items-start ds-leading-none\" href=\"/cricketers/tushar-deshpande-822553\"><span class=\"ds-text-tight-s ds-font-medium ds-text-typo ds-underline ds-decoration-ui-stroke hover:ds-text-typo-primary hover:ds-decoration-ui-stroke-primary ds-block ds-mr-1\"><span>Tushar Deshpande<!-- --> </span></span></a></div></td></tr><tr class=\"\"><td class=\"\" colspan=\"9\"><div class=\"ds-text-tight-s ds-font-regular ds-leading-4\"><strong>Fall of wickets<!-- -->: </strong><span>1<!-- -->-<!-- -->2<!-- --> (<!-- -->Ruturaj Gaikwad<!-- -->, 0.3 ov<!-- -->)</span><span>, <!-- -->2<!-- -->-<!-- -->28<!-- --> (<!-- -->Devon Conway<!-- -->, 4.1 ov<!-- -->)</span><span>, <!-- -->3<!-- -->-<!-- -->49<!-- --> (<!-- -->Robin Uthappa<!-- -->, 7.5 ov<!-- -->)</span><span>, <!-- -->4<!-- -->-<!-- -->52<!-- --> (<!-- -->Ambati Rayudu<!-- -->, 8.4 ov<!-- -->)</span><span>, <!-- -->5<!-- -->-<!-- -->61<!-- --> (<!-- -->Shivam Dube<!-- -->, 10.5 ov<!-- -->)</span></div></td></tr></tbody></table>,\n",
       " <table class=\"ds-w-full ds-table ds-table-md ds-table-auto ci-scorecard-table\"><thead class=\"ds-bg-fill-content-alternate ds-text-left\"><tr class=\"ds-text-right\"><th class=\"ds-w-0 ds-whitespace-nowrap ds-min-w-max ds-text-left\">BATTING</th><th class=\"ds-min-w-max\"> </th><th class=\"ds-w-0 ds-whitespace-nowrap ds-min-w-max\">R</th><th class=\"ds-w-0 ds-whitespace-nowrap ds-min-w-max\">B</th><th class=\"ds-w-0 ds-whitespace-nowrap ds-min-w-max\">M</th><th class=\"ds-w-0 ds-whitespace-nowrap ds-min-w-max\">4s</th><th class=\"ds-w-0 ds-whitespace-nowrap ds-min-w-max\">6s</th><th class=\"ds-w-0 ds-whitespace-nowrap ds-min-w-max\">SR</th></tr></thead><tbody class=\"\"><tr class=\"\"><td class=\"ds-w-0 ds-whitespace-nowrap ds-min-w-max ds-flex ds-items-center\"><a class=\"ds-inline-flex ds-items-start ds-leading-none\" href=\"/cricketers/ajinkya-rahane-277916\" title=\"Ajinkya Rahane\"><span class=\"ds-text-tight-s ds-font-medium ds-text-typo ds-underline ds-decoration-ui-stroke hover:ds-text-typo-primary hover:ds-decoration-ui-stroke-primary ds-block\"><span>Ajinkya Rahane<!-- --> </span></span></a></td><td class=\"ds-min-w-max !ds-pl-[100px]\"><span class=\"ds-flex ds-cursor-pointer ds-items-center\"><i class=\"icon-keyboard_arrow_down-outlined ds-text-icon-primary ds-inline-flex ds-items-center\" style=\"font-size:16px\"></i><span>c Jadeja b Santner</span></span></td><td class=\"ds-w-0 ds-whitespace-nowrap ds-min-w-max ds-text-right\"><strong>44</strong></td><td class=\"ds-w-0 ds-whitespace-nowrap ds-min-w-max ds-text-right\">34</td><td class=\"ds-w-0 ds-whitespace-nowrap ds-min-w-max ds-text-right\">56</td><td class=\"ds-w-0 ds-whitespace-nowrap ds-min-w-max ds-text-right\">6</td><td class=\"ds-w-0 ds-whitespace-nowrap ds-min-w-max ds-text-right\">1</td><td class=\"ds-w-0 ds-whitespace-nowrap ds-min-w-max ds-text-right\">129.41</td></tr><tr class=\"ds-hidden\"><td class=\"\" colspan=\"9\"></td></tr><tr class=\"\"><td class=\"ds-w-0 ds-whitespace-nowrap ds-min-w-max ds-flex ds-items-center\"><a class=\"ds-inline-flex ds-items-start ds-leading-none\" href=\"/cricketers/venkatesh-iyer-851403\" title=\"Venkatesh Iyer\"><span class=\"ds-text-tight-s ds-font-medium ds-text-typo ds-underline ds-decoration-ui-stroke hover:ds-text-typo-primary hover:ds-decoration-ui-stroke-primary ds-block\"><span>Venkatesh Iyer<!-- --> </span></span></a></td><td class=\"ds-min-w-max !ds-pl-[100px]\"><span class=\"ds-flex ds-cursor-pointer ds-items-center\"><i class=\"icon-keyboard_arrow_down-outlined ds-text-icon-primary ds-inline-flex ds-items-center\" style=\"font-size:16px\"></i><span>c †Dhoni b Bravo</span></span></td><td class=\"ds-w-0 ds-whitespace-nowrap ds-min-w-max ds-text-right\"><strong>16</strong></td><td class=\"ds-w-0 ds-whitespace-nowrap ds-min-w-max ds-text-right\">16</td><td class=\"ds-w-0 ds-whitespace-nowrap ds-min-w-max ds-text-right\">31</td><td class=\"ds-w-0 ds-whitespace-nowrap ds-min-w-max ds-text-right\">2</td><td class=\"ds-w-0 ds-whitespace-nowrap ds-min-w-max ds-text-right\">0</td><td class=\"ds-w-0 ds-whitespace-nowrap ds-min-w-max ds-text-right\">100.00</td></tr><tr class=\"ds-hidden\"><td class=\"\" colspan=\"9\"></td></tr><tr class=\"\"><td class=\"ds-w-0 ds-whitespace-nowrap ds-min-w-max ds-flex ds-items-center\"><a class=\"ds-inline-flex ds-items-start ds-leading-none\" href=\"/cricketers/nitish-rana-604527\" title=\"Nitish Rana\"><span class=\"ds-text-tight-s ds-font-medium ds-text-typo ds-underline ds-decoration-ui-stroke hover:ds-text-typo-primary hover:ds-decoration-ui-stroke-primary ds-block\"><span>Nitish Rana<!-- --> </span></span></a></td><td class=\"ds-min-w-max !ds-pl-[100px]\"><span class=\"ds-flex ds-cursor-pointer ds-items-center\"><i class=\"icon-keyboard_arrow_down-outlined ds-text-icon-primary ds-inline-flex ds-items-center\" style=\"font-size:16px\"></i><span>c Rayudu b Bravo</span></span></td><td class=\"ds-w-0 ds-whitespace-nowrap ds-min-w-max ds-text-right\"><strong>21</strong></td><td class=\"ds-w-0 ds-whitespace-nowrap ds-min-w-max ds-text-right\">17</td><td class=\"ds-w-0 ds-whitespace-nowrap ds-min-w-max ds-text-right\">19</td><td class=\"ds-w-0 ds-whitespace-nowrap ds-min-w-max ds-text-right\">2</td><td class=\"ds-w-0 ds-whitespace-nowrap ds-min-w-max ds-text-right\">1</td><td class=\"ds-w-0 ds-whitespace-nowrap ds-min-w-max ds-text-right\">123.52</td></tr><tr class=\"ds-hidden\"><td class=\"\" colspan=\"9\"></td></tr><tr class=\"\"><td class=\"ds-w-0 ds-whitespace-nowrap ds-min-w-max ds-flex ds-items-center ds-border-line-primary ci-scorecard-player-notout\"><a class=\"ds-inline-flex ds-items-start ds-leading-none\" href=\"/cricketers/shreyas-iyer-642519\" title=\"Shreyas Iyer\"><span class=\"ds-text-tight-s ds-font-medium ds-text-typo ds-underline ds-decoration-ui-stroke hover:ds-text-typo-primary hover:ds-decoration-ui-stroke-primary ds-block\"><span>Shreyas Iyer<!-- --> <span>(c)</span></span></span></a></td><td class=\"ds-min-w-max !ds-pl-[100px]\">not out </td><td class=\"ds-w-0 ds-whitespace-nowrap ds-min-w-max ds-text-right\"><strong>20</strong></td><td class=\"ds-w-0 ds-whitespace-nowrap ds-min-w-max ds-text-right\">19</td><td class=\"ds-w-0 ds-whitespace-nowrap ds-min-w-max ds-text-right\">36</td><td class=\"ds-w-0 ds-whitespace-nowrap ds-min-w-max ds-text-right\">1</td><td class=\"ds-w-0 ds-whitespace-nowrap ds-min-w-max ds-text-right\">0</td><td class=\"ds-w-0 ds-whitespace-nowrap ds-min-w-max ds-text-right\">105.26</td></tr><tr class=\"\"><td class=\"ds-w-0 ds-whitespace-nowrap ds-min-w-max ds-flex ds-items-center\"><a class=\"ds-inline-flex ds-items-start ds-leading-none\" href=\"/cricketers/sam-billings-297628\" title=\"Sam Billings\"><span class=\"ds-text-tight-s ds-font-medium ds-text-typo ds-underline ds-decoration-ui-stroke hover:ds-text-typo-primary hover:ds-decoration-ui-stroke-primary ds-block\"><span>Sam Billings<!-- --> </span></span></a></td><td class=\"ds-min-w-max !ds-pl-[100px]\"><span class=\"ds-flex ds-cursor-pointer ds-items-center\"><i class=\"icon-keyboard_arrow_down-outlined ds-text-icon-primary ds-inline-flex ds-items-center\" style=\"font-size:16px\"></i><span>c Deshpande b Bravo</span></span></td><td class=\"ds-w-0 ds-whitespace-nowrap ds-min-w-max ds-text-right\"><strong>25</strong></td><td class=\"ds-w-0 ds-whitespace-nowrap ds-min-w-max ds-text-right\">22</td><td class=\"ds-w-0 ds-whitespace-nowrap ds-min-w-max ds-text-right\">25</td><td class=\"ds-w-0 ds-whitespace-nowrap ds-min-w-max ds-text-right\">1</td><td class=\"ds-w-0 ds-whitespace-nowrap ds-min-w-max ds-text-right\">1</td><td class=\"ds-w-0 ds-whitespace-nowrap ds-min-w-max ds-text-right\">113.63</td></tr><tr class=\"ds-hidden\"><td class=\"\" colspan=\"9\"></td></tr><tr class=\"\"><td class=\"ds-w-0 ds-whitespace-nowrap ds-min-w-max ds-flex ds-items-center ds-border-line-primary ci-scorecard-player-notout\"><a class=\"ds-inline-flex ds-items-start ds-leading-none\" href=\"/cricketers/sheldon-jackson-237696\" title=\"Sheldon Jackson\"><span class=\"ds-text-tight-s ds-font-medium ds-text-typo ds-underline ds-decoration-ui-stroke hover:ds-text-typo-primary hover:ds-decoration-ui-stroke-primary ds-block\"><span>Sheldon Jackson<!-- --> <span>†</span></span></span></a></td><td class=\"ds-min-w-max !ds-pl-[100px]\">not out </td><td class=\"ds-w-0 ds-whitespace-nowrap ds-min-w-max ds-text-right\"><strong>3</strong></td><td class=\"ds-w-0 ds-whitespace-nowrap ds-min-w-max ds-text-right\">3</td><td class=\"ds-w-0 ds-whitespace-nowrap ds-min-w-max ds-text-right\">6</td><td class=\"ds-w-0 ds-whitespace-nowrap ds-min-w-max ds-text-right\">0</td><td class=\"ds-w-0 ds-whitespace-nowrap ds-min-w-max ds-text-right\">0</td><td class=\"ds-w-0 ds-whitespace-nowrap ds-min-w-max ds-text-right\">100.00</td></tr><tr class=\"ds-text-tight-s\"><td class=\"ds-min-w-max\" colspan=\"1\">Extras</td><td class=\"ds-min-w-max !ds-pl-[100px]\">(b 4)</td><td class=\"ds-min-w-max ds-text-right\" colspan=\"1\"><strong>4</strong></td><td class=\"ds-text-right\" colspan=\"7\"></td></tr><tr class=\"\"><td class=\"ds-font-bold ds-bg-fill-content-alternate ds-text-tight-m ds-min-w-max\" colspan=\"1\">TOTAL</td><td class=\"ds-font-bold ds-bg-fill-content-alternate ds-text-tight-m ds-min-w-max ds-flex ds-items-center !ds-pl-[100px]\"><span class=\"ds-font-regular ds-text-tight-s\">18.3 Ov</span><span class=\"ds-font-regular ds-text-tight-s\"> <!-- -->(RR: 7.18)</span><i class=\"icon-blank_placeholder ds-text-icon\" style=\"font-size:20px\"></i></td><td class=\"ds-font-bold ds-bg-fill-content-alternate ds-text-tight-m ds-min-w-max ds-text-right\" colspan=\"1\">133<!-- -->/4</td><td class=\"ds-font-bold ds-bg-fill-content-alternate ds-text-tight-m ds-text-right !ds-font-regular\" colspan=\"7\"><div></div></td></tr><tr class=\"!ds-border-b-0\"><td class=\"!ds-py-2\" colspan=\"9\"><div class=\"ds-text-tight-s ds-font-regular ds-leading-4\"><strong>Did not bat: </strong><a class=\"ds-inline-flex ds-items-start ds-leading-none\" href=\"/cricketers/andre-russell-276298\"><span class=\"ds-text-tight-s ds-font-medium ds-text-typo ds-underline ds-decoration-ui-stroke hover:ds-text-typo-primary hover:ds-decoration-ui-stroke-primary ds-block ds-mr-1\"><span>Andre Russell<!-- -->,<!-- --> </span></span></a><a class=\"ds-inline-flex ds-items-start ds-leading-none\" href=\"/cricketers/sunil-narine-230558\"><span class=\"ds-text-tight-s ds-font-medium ds-text-typo ds-underline ds-decoration-ui-stroke hover:ds-text-typo-primary hover:ds-decoration-ui-stroke-primary ds-block ds-mr-1\"><span>Sunil Narine<!-- -->,<!-- --> </span></span></a><a class=\"ds-inline-flex ds-items-start ds-leading-none\" href=\"/cricketers/umesh-yadav-376116\"><span class=\"ds-text-tight-s ds-font-medium ds-text-typo ds-underline ds-decoration-ui-stroke hover:ds-text-typo-primary hover:ds-decoration-ui-stroke-primary ds-block ds-mr-1\"><span>Umesh Yadav<!-- -->,<!-- --> </span></span></a><a class=\"ds-inline-flex ds-items-start ds-leading-none\" href=\"/cricketers/shivam-mavi-1079848\"><span class=\"ds-text-tight-s ds-font-medium ds-text-typo ds-underline ds-decoration-ui-stroke hover:ds-text-typo-primary hover:ds-decoration-ui-stroke-primary ds-block ds-mr-1\"><span>Shivam Mavi<!-- -->,<!-- --> </span></span></a><a class=\"ds-inline-flex ds-items-start ds-leading-none\" href=\"/cricketers/varun-chakravarthy-1108375\"><span class=\"ds-text-tight-s ds-font-medium ds-text-typo ds-underline ds-decoration-ui-stroke hover:ds-text-typo-primary hover:ds-decoration-ui-stroke-primary ds-block ds-mr-1\"><span>Varun Chakravarthy<!-- --> </span></span></a></div></td></tr><tr class=\"\"><td class=\"\" colspan=\"9\"><div class=\"ds-text-tight-s ds-font-regular ds-leading-4\"><strong>Fall of wickets<!-- -->: </strong><span>1<!-- -->-<!-- -->43<!-- --> (<!-- -->Venkatesh Iyer<!-- -->, 6.2 ov<!-- -->)</span><span>, <!-- -->2<!-- -->-<!-- -->76<!-- --> (<!-- -->Nitish Rana<!-- -->, 9.6 ov<!-- -->)</span><span>, <!-- -->3<!-- -->-<!-- -->87<!-- --> (<!-- -->Ajinkya Rahane<!-- -->, 11.4 ov<!-- -->)</span><span>, <!-- -->4<!-- -->-<!-- -->123<!-- --> (<!-- -->Sam Billings<!-- -->, 17.3 ov<!-- -->)</span></div></td></tr></tbody></table>]"
      ]
     },
     "execution_count": 34,
     "metadata": {},
     "output_type": "execute_result"
    }
   ],
   "source": [
    "get_batting_tables(soup)"
   ]
  },
  {
   "cell_type": "code",
   "execution_count": 2,
   "metadata": {},
   "outputs": [],
   "source": [
    "import pandas as pd\n",
    "\n",
    "data_path = 'data/scraped_data.csv'\n",
    "\n",
    "def load_data(filepath):\n",
    "    return pd.read_csv(filepath, index_col=0)\n",
    "\n",
    "def clean_name(df):\n",
    "    df['name'] = df['name'].apply(lambda x: x.replace('†', '').strip())\n",
    "\n",
    "def get_games_played_count(df):\n",
    "    return df['name'].value_counts().rename('count')\n",
    "\n",
    "def get_total_stats(df):\n",
    "    return df.groupby('name')[['runs', 'balls_faced', 'fours', 'sixes']].sum().reset_index()\n",
    "\n",
    "def join_total_stats_with_games_count(stats_df, counts_df):\n",
    "    return stats_df.merge(counts_df, how='left', on='name')"
   ]
  },
  {
   "cell_type": "code",
   "execution_count": 18,
   "metadata": {},
   "outputs": [
    {
     "data": {
      "text/html": [
       "<div>\n",
       "<style scoped>\n",
       "    .dataframe tbody tr th:only-of-type {\n",
       "        vertical-align: middle;\n",
       "    }\n",
       "\n",
       "    .dataframe tbody tr th {\n",
       "        vertical-align: top;\n",
       "    }\n",
       "\n",
       "    .dataframe thead th {\n",
       "        text-align: right;\n",
       "    }\n",
       "</style>\n",
       "<table border=\"1\" class=\"dataframe\">\n",
       "  <thead>\n",
       "    <tr style=\"text-align: right;\">\n",
       "      <th></th>\n",
       "      <th>name</th>\n",
       "      <th>runs</th>\n",
       "      <th>balls_faced</th>\n",
       "      <th>fours</th>\n",
       "      <th>sixes</th>\n",
       "      <th>batted_out</th>\n",
       "      <th>date</th>\n",
       "    </tr>\n",
       "  </thead>\n",
       "  <tbody>\n",
       "    <tr>\n",
       "      <th>0</th>\n",
       "      <td>Devon Conway</td>\n",
       "      <td>1</td>\n",
       "      <td>6</td>\n",
       "      <td>0</td>\n",
       "      <td>0</td>\n",
       "      <td>b Mohammed Shami</td>\n",
       "      <td>March 31</td>\n",
       "    </tr>\n",
       "    <tr>\n",
       "      <th>1</th>\n",
       "      <td>Ruturaj Gaikwad</td>\n",
       "      <td>92</td>\n",
       "      <td>50</td>\n",
       "      <td>4</td>\n",
       "      <td>9</td>\n",
       "      <td>c Shubman Gill b Joseph</td>\n",
       "      <td>March 31</td>\n",
       "    </tr>\n",
       "    <tr>\n",
       "      <th>2</th>\n",
       "      <td>Moeen Ali</td>\n",
       "      <td>23</td>\n",
       "      <td>17</td>\n",
       "      <td>4</td>\n",
       "      <td>1</td>\n",
       "      <td>c †Saha b Rashid Khan</td>\n",
       "      <td>March 31</td>\n",
       "    </tr>\n",
       "    <tr>\n",
       "      <th>3</th>\n",
       "      <td>Ben Stokes</td>\n",
       "      <td>7</td>\n",
       "      <td>6</td>\n",
       "      <td>1</td>\n",
       "      <td>0</td>\n",
       "      <td>c †Saha b Rashid Khan</td>\n",
       "      <td>March 31</td>\n",
       "    </tr>\n",
       "    <tr>\n",
       "      <th>4</th>\n",
       "      <td>Ambati Rayudu</td>\n",
       "      <td>12</td>\n",
       "      <td>12</td>\n",
       "      <td>0</td>\n",
       "      <td>1</td>\n",
       "      <td>b Little</td>\n",
       "      <td>March 31</td>\n",
       "    </tr>\n",
       "    <tr>\n",
       "      <th>...</th>\n",
       "      <td>...</td>\n",
       "      <td>...</td>\n",
       "      <td>...</td>\n",
       "      <td>...</td>\n",
       "      <td>...</td>\n",
       "      <td>...</td>\n",
       "      <td>...</td>\n",
       "    </tr>\n",
       "    <tr>\n",
       "      <th>462</th>\n",
       "      <td>Phil Salt †</td>\n",
       "      <td>5</td>\n",
       "      <td>3</td>\n",
       "      <td>1</td>\n",
       "      <td>0</td>\n",
       "      <td>c &amp; b AS Roy</td>\n",
       "      <td>April 20</td>\n",
       "    </tr>\n",
       "    <tr>\n",
       "      <th>463</th>\n",
       "      <td>Manish Pandey</td>\n",
       "      <td>21</td>\n",
       "      <td>23</td>\n",
       "      <td>2</td>\n",
       "      <td>0</td>\n",
       "      <td>c Singh b AS Roy</td>\n",
       "      <td>April 20</td>\n",
       "    </tr>\n",
       "    <tr>\n",
       "      <th>464</th>\n",
       "      <td>Axar Patel</td>\n",
       "      <td>19</td>\n",
       "      <td>22</td>\n",
       "      <td>1</td>\n",
       "      <td>0</td>\n",
       "      <td>not out</td>\n",
       "      <td>April 20</td>\n",
       "    </tr>\n",
       "    <tr>\n",
       "      <th>465</th>\n",
       "      <td>Aman Hakim Khan</td>\n",
       "      <td>0</td>\n",
       "      <td>2</td>\n",
       "      <td>0</td>\n",
       "      <td>0</td>\n",
       "      <td>b Rana</td>\n",
       "      <td>April 20</td>\n",
       "    </tr>\n",
       "    <tr>\n",
       "      <th>466</th>\n",
       "      <td>Lalit Yadav</td>\n",
       "      <td>4</td>\n",
       "      <td>7</td>\n",
       "      <td>0</td>\n",
       "      <td>0</td>\n",
       "      <td>not out</td>\n",
       "      <td>April 20</td>\n",
       "    </tr>\n",
       "  </tbody>\n",
       "</table>\n",
       "<p>467 rows × 7 columns</p>\n",
       "</div>"
      ],
      "text/plain": [
       "                name  runs  balls_faced  fours  sixes  \\\n",
       "0       Devon Conway     1            6      0      0   \n",
       "1    Ruturaj Gaikwad    92           50      4      9   \n",
       "2          Moeen Ali    23           17      4      1   \n",
       "3         Ben Stokes     7            6      1      0   \n",
       "4      Ambati Rayudu    12           12      0      1   \n",
       "..               ...   ...          ...    ...    ...   \n",
       "462      Phil Salt †     5            3      1      0   \n",
       "463    Manish Pandey    21           23      2      0   \n",
       "464       Axar Patel    19           22      1      0   \n",
       "465  Aman Hakim Khan     0            2      0      0   \n",
       "466      Lalit Yadav     4            7      0      0   \n",
       "\n",
       "                  batted_out       date  \n",
       "0           b Mohammed Shami   March 31  \n",
       "1    c Shubman Gill b Joseph   March 31  \n",
       "2      c †Saha b Rashid Khan   March 31  \n",
       "3      c †Saha b Rashid Khan   March 31  \n",
       "4                   b Little   March 31  \n",
       "..                       ...        ...  \n",
       "462             c & b AS Roy   April 20  \n",
       "463         c Singh b AS Roy   April 20  \n",
       "464                  not out   April 20  \n",
       "465                   b Rana   April 20  \n",
       "466                  not out   April 20  \n",
       "\n",
       "[467 rows x 7 columns]"
      ]
     },
     "execution_count": 18,
     "metadata": {},
     "output_type": "execute_result"
    }
   ],
   "source": [
    "    \n",
    "df = load_data(\"../data/scraped_data.csv\")\n",
    "df"
   ]
  },
  {
   "cell_type": "code",
   "execution_count": 24,
   "metadata": {},
   "outputs": [],
   "source": [
    "df['name'] = df['name'].map(lambda x: x.replace('†', '').strip())"
   ]
  },
  {
   "cell_type": "code",
   "execution_count": 25,
   "metadata": {},
   "outputs": [
    {
     "data": {
      "text/html": [
       "<div>\n",
       "<style scoped>\n",
       "    .dataframe tbody tr th:only-of-type {\n",
       "        vertical-align: middle;\n",
       "    }\n",
       "\n",
       "    .dataframe tbody tr th {\n",
       "        vertical-align: top;\n",
       "    }\n",
       "\n",
       "    .dataframe thead th {\n",
       "        text-align: right;\n",
       "    }\n",
       "</style>\n",
       "<table border=\"1\" class=\"dataframe\">\n",
       "  <thead>\n",
       "    <tr style=\"text-align: right;\">\n",
       "      <th></th>\n",
       "      <th>name</th>\n",
       "      <th>runs</th>\n",
       "      <th>balls_faced</th>\n",
       "      <th>fours</th>\n",
       "      <th>sixes</th>\n",
       "      <th>batted_out</th>\n",
       "      <th>date</th>\n",
       "    </tr>\n",
       "  </thead>\n",
       "  <tbody>\n",
       "    <tr>\n",
       "      <th>0</th>\n",
       "      <td>Devon Conway</td>\n",
       "      <td>1</td>\n",
       "      <td>6</td>\n",
       "      <td>0</td>\n",
       "      <td>0</td>\n",
       "      <td>b Mohammed Shami</td>\n",
       "      <td>March 31</td>\n",
       "    </tr>\n",
       "    <tr>\n",
       "      <th>1</th>\n",
       "      <td>Ruturaj Gaikwad</td>\n",
       "      <td>92</td>\n",
       "      <td>50</td>\n",
       "      <td>4</td>\n",
       "      <td>9</td>\n",
       "      <td>c Shubman Gill b Joseph</td>\n",
       "      <td>March 31</td>\n",
       "    </tr>\n",
       "    <tr>\n",
       "      <th>2</th>\n",
       "      <td>Moeen Ali</td>\n",
       "      <td>23</td>\n",
       "      <td>17</td>\n",
       "      <td>4</td>\n",
       "      <td>1</td>\n",
       "      <td>c †Saha b Rashid Khan</td>\n",
       "      <td>March 31</td>\n",
       "    </tr>\n",
       "    <tr>\n",
       "      <th>3</th>\n",
       "      <td>Ben Stokes</td>\n",
       "      <td>7</td>\n",
       "      <td>6</td>\n",
       "      <td>1</td>\n",
       "      <td>0</td>\n",
       "      <td>c †Saha b Rashid Khan</td>\n",
       "      <td>March 31</td>\n",
       "    </tr>\n",
       "    <tr>\n",
       "      <th>4</th>\n",
       "      <td>Ambati Rayudu</td>\n",
       "      <td>12</td>\n",
       "      <td>12</td>\n",
       "      <td>0</td>\n",
       "      <td>1</td>\n",
       "      <td>b Little</td>\n",
       "      <td>March 31</td>\n",
       "    </tr>\n",
       "    <tr>\n",
       "      <th>...</th>\n",
       "      <td>...</td>\n",
       "      <td>...</td>\n",
       "      <td>...</td>\n",
       "      <td>...</td>\n",
       "      <td>...</td>\n",
       "      <td>...</td>\n",
       "      <td>...</td>\n",
       "    </tr>\n",
       "    <tr>\n",
       "      <th>462</th>\n",
       "      <td>Phil Salt</td>\n",
       "      <td>5</td>\n",
       "      <td>3</td>\n",
       "      <td>1</td>\n",
       "      <td>0</td>\n",
       "      <td>c &amp; b AS Roy</td>\n",
       "      <td>April 20</td>\n",
       "    </tr>\n",
       "    <tr>\n",
       "      <th>463</th>\n",
       "      <td>Manish Pandey</td>\n",
       "      <td>21</td>\n",
       "      <td>23</td>\n",
       "      <td>2</td>\n",
       "      <td>0</td>\n",
       "      <td>c Singh b AS Roy</td>\n",
       "      <td>April 20</td>\n",
       "    </tr>\n",
       "    <tr>\n",
       "      <th>464</th>\n",
       "      <td>Axar Patel</td>\n",
       "      <td>19</td>\n",
       "      <td>22</td>\n",
       "      <td>1</td>\n",
       "      <td>0</td>\n",
       "      <td>not out</td>\n",
       "      <td>April 20</td>\n",
       "    </tr>\n",
       "    <tr>\n",
       "      <th>465</th>\n",
       "      <td>Aman Hakim Khan</td>\n",
       "      <td>0</td>\n",
       "      <td>2</td>\n",
       "      <td>0</td>\n",
       "      <td>0</td>\n",
       "      <td>b Rana</td>\n",
       "      <td>April 20</td>\n",
       "    </tr>\n",
       "    <tr>\n",
       "      <th>466</th>\n",
       "      <td>Lalit Yadav</td>\n",
       "      <td>4</td>\n",
       "      <td>7</td>\n",
       "      <td>0</td>\n",
       "      <td>0</td>\n",
       "      <td>not out</td>\n",
       "      <td>April 20</td>\n",
       "    </tr>\n",
       "  </tbody>\n",
       "</table>\n",
       "<p>467 rows × 7 columns</p>\n",
       "</div>"
      ],
      "text/plain": [
       "                name  runs  balls_faced  fours  sixes  \\\n",
       "0       Devon Conway     1            6      0      0   \n",
       "1    Ruturaj Gaikwad    92           50      4      9   \n",
       "2          Moeen Ali    23           17      4      1   \n",
       "3         Ben Stokes     7            6      1      0   \n",
       "4      Ambati Rayudu    12           12      0      1   \n",
       "..               ...   ...          ...    ...    ...   \n",
       "462        Phil Salt     5            3      1      0   \n",
       "463    Manish Pandey    21           23      2      0   \n",
       "464       Axar Patel    19           22      1      0   \n",
       "465  Aman Hakim Khan     0            2      0      0   \n",
       "466      Lalit Yadav     4            7      0      0   \n",
       "\n",
       "                  batted_out       date  \n",
       "0           b Mohammed Shami   March 31  \n",
       "1    c Shubman Gill b Joseph   March 31  \n",
       "2      c †Saha b Rashid Khan   March 31  \n",
       "3      c †Saha b Rashid Khan   March 31  \n",
       "4                   b Little   March 31  \n",
       "..                       ...        ...  \n",
       "462             c & b AS Roy   April 20  \n",
       "463         c Singh b AS Roy   April 20  \n",
       "464                  not out   April 20  \n",
       "465                   b Rana   April 20  \n",
       "466                  not out   April 20  \n",
       "\n",
       "[467 rows x 7 columns]"
      ]
     },
     "execution_count": 25,
     "metadata": {},
     "output_type": "execute_result"
    }
   ],
   "source": [
    "df"
   ]
  },
  {
   "cell_type": "code",
   "execution_count": 27,
   "metadata": {},
   "outputs": [],
   "source": [
    "df['batted_out'] = df['batted_out'].map(lambda x: 'no' if 'not out' in x else 'yes')"
   ]
  },
  {
   "cell_type": "code",
   "execution_count": 28,
   "metadata": {},
   "outputs": [
    {
     "data": {
      "text/html": [
       "<div>\n",
       "<style scoped>\n",
       "    .dataframe tbody tr th:only-of-type {\n",
       "        vertical-align: middle;\n",
       "    }\n",
       "\n",
       "    .dataframe tbody tr th {\n",
       "        vertical-align: top;\n",
       "    }\n",
       "\n",
       "    .dataframe thead th {\n",
       "        text-align: right;\n",
       "    }\n",
       "</style>\n",
       "<table border=\"1\" class=\"dataframe\">\n",
       "  <thead>\n",
       "    <tr style=\"text-align: right;\">\n",
       "      <th></th>\n",
       "      <th>name</th>\n",
       "      <th>runs</th>\n",
       "      <th>balls_faced</th>\n",
       "      <th>fours</th>\n",
       "      <th>sixes</th>\n",
       "      <th>batted_out</th>\n",
       "      <th>date</th>\n",
       "    </tr>\n",
       "  </thead>\n",
       "  <tbody>\n",
       "    <tr>\n",
       "      <th>0</th>\n",
       "      <td>Devon Conway</td>\n",
       "      <td>1</td>\n",
       "      <td>6</td>\n",
       "      <td>0</td>\n",
       "      <td>0</td>\n",
       "      <td>yes</td>\n",
       "      <td>March 31</td>\n",
       "    </tr>\n",
       "    <tr>\n",
       "      <th>1</th>\n",
       "      <td>Ruturaj Gaikwad</td>\n",
       "      <td>92</td>\n",
       "      <td>50</td>\n",
       "      <td>4</td>\n",
       "      <td>9</td>\n",
       "      <td>yes</td>\n",
       "      <td>March 31</td>\n",
       "    </tr>\n",
       "    <tr>\n",
       "      <th>2</th>\n",
       "      <td>Moeen Ali</td>\n",
       "      <td>23</td>\n",
       "      <td>17</td>\n",
       "      <td>4</td>\n",
       "      <td>1</td>\n",
       "      <td>yes</td>\n",
       "      <td>March 31</td>\n",
       "    </tr>\n",
       "    <tr>\n",
       "      <th>3</th>\n",
       "      <td>Ben Stokes</td>\n",
       "      <td>7</td>\n",
       "      <td>6</td>\n",
       "      <td>1</td>\n",
       "      <td>0</td>\n",
       "      <td>yes</td>\n",
       "      <td>March 31</td>\n",
       "    </tr>\n",
       "    <tr>\n",
       "      <th>4</th>\n",
       "      <td>Ambati Rayudu</td>\n",
       "      <td>12</td>\n",
       "      <td>12</td>\n",
       "      <td>0</td>\n",
       "      <td>1</td>\n",
       "      <td>yes</td>\n",
       "      <td>March 31</td>\n",
       "    </tr>\n",
       "    <tr>\n",
       "      <th>...</th>\n",
       "      <td>...</td>\n",
       "      <td>...</td>\n",
       "      <td>...</td>\n",
       "      <td>...</td>\n",
       "      <td>...</td>\n",
       "      <td>...</td>\n",
       "      <td>...</td>\n",
       "    </tr>\n",
       "    <tr>\n",
       "      <th>462</th>\n",
       "      <td>Phil Salt</td>\n",
       "      <td>5</td>\n",
       "      <td>3</td>\n",
       "      <td>1</td>\n",
       "      <td>0</td>\n",
       "      <td>yes</td>\n",
       "      <td>April 20</td>\n",
       "    </tr>\n",
       "    <tr>\n",
       "      <th>463</th>\n",
       "      <td>Manish Pandey</td>\n",
       "      <td>21</td>\n",
       "      <td>23</td>\n",
       "      <td>2</td>\n",
       "      <td>0</td>\n",
       "      <td>yes</td>\n",
       "      <td>April 20</td>\n",
       "    </tr>\n",
       "    <tr>\n",
       "      <th>464</th>\n",
       "      <td>Axar Patel</td>\n",
       "      <td>19</td>\n",
       "      <td>22</td>\n",
       "      <td>1</td>\n",
       "      <td>0</td>\n",
       "      <td>no</td>\n",
       "      <td>April 20</td>\n",
       "    </tr>\n",
       "    <tr>\n",
       "      <th>465</th>\n",
       "      <td>Aman Hakim Khan</td>\n",
       "      <td>0</td>\n",
       "      <td>2</td>\n",
       "      <td>0</td>\n",
       "      <td>0</td>\n",
       "      <td>yes</td>\n",
       "      <td>April 20</td>\n",
       "    </tr>\n",
       "    <tr>\n",
       "      <th>466</th>\n",
       "      <td>Lalit Yadav</td>\n",
       "      <td>4</td>\n",
       "      <td>7</td>\n",
       "      <td>0</td>\n",
       "      <td>0</td>\n",
       "      <td>no</td>\n",
       "      <td>April 20</td>\n",
       "    </tr>\n",
       "  </tbody>\n",
       "</table>\n",
       "<p>467 rows × 7 columns</p>\n",
       "</div>"
      ],
      "text/plain": [
       "                name  runs  balls_faced  fours  sixes batted_out       date\n",
       "0       Devon Conway     1            6      0      0        yes   March 31\n",
       "1    Ruturaj Gaikwad    92           50      4      9        yes   March 31\n",
       "2          Moeen Ali    23           17      4      1        yes   March 31\n",
       "3         Ben Stokes     7            6      1      0        yes   March 31\n",
       "4      Ambati Rayudu    12           12      0      1        yes   March 31\n",
       "..               ...   ...          ...    ...    ...        ...        ...\n",
       "462        Phil Salt     5            3      1      0        yes   April 20\n",
       "463    Manish Pandey    21           23      2      0        yes   April 20\n",
       "464       Axar Patel    19           22      1      0         no   April 20\n",
       "465  Aman Hakim Khan     0            2      0      0        yes   April 20\n",
       "466      Lalit Yadav     4            7      0      0         no   April 20\n",
       "\n",
       "[467 rows x 7 columns]"
      ]
     },
     "execution_count": 28,
     "metadata": {},
     "output_type": "execute_result"
    }
   ],
   "source": [
    "df"
   ]
  },
  {
   "cell_type": "code",
   "execution_count": null,
   "metadata": {},
   "outputs": [],
   "source": []
  }
 ],
 "metadata": {
  "kernelspec": {
   "display_name": "Python 3",
   "language": "python",
   "name": "python3"
  },
  "language_info": {
   "codemirror_mode": {
    "name": "ipython",
    "version": 3
   },
   "file_extension": ".py",
   "mimetype": "text/x-python",
   "name": "python",
   "nbconvert_exporter": "python",
   "pygments_lexer": "ipython3",
   "version": "3.10.6"
  }
 },
 "nbformat": 4,
 "nbformat_minor": 2
}
