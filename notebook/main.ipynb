{
 "cells": [
  {
   "cell_type": "code",
   "execution_count": 1,
   "metadata": {},
   "outputs": [],
   "source": [
    "from bs4 import BeautifulSoup\n",
    "import requests\n",
    "import pandas as pd\n",
    "import re\n",
    "\n",
    "URL = \"https://www.espncricinfo.com/series/indian-premier-league-2023-1345038/match-schedule-fixtures-and-results\"\n",
    "\n",
    "def get_page(url):\n",
    "    return requests.get(url).content\n",
    "\n",
    "def get_soup(page):\n",
    "    return BeautifulSoup(page, 'lxml')\n",
    "\n",
    "def get_card(soup):\n",
    "    return soup.find_all(class_=re.compile('ds-p-4 hover:ds-bg-ui-fill-translucent'))\n",
    "\n",
    "def get_each_card_href(cards):\n",
    "    return [card.find('a') ['href'] for card in cards]\n",
    "\n",
    "def scrape_links_main_page():\n",
    "    web = get_page(URL)\n",
    "    soup = get_soup(web)\n",
    "    cards = get_card(soup)\n",
    "    return  ['https://www.espncricinfo.com/' + link for link in get_each_card_href(cards)]\n",
    "\n",
    "def get_stats_table(soup):\n",
    "    tables = soup.find_all('table', class_=re.compile('ds-w-full ds-table ds-table-md ds-table-auto'))\n",
    "    headers = tables.find_all('th', class_='ds-w-0 ds-whitespace-nowrap ds-min-w-max ds-text-left')\n",
    "\n",
    "    for header in headers:\n",
    "        if header.text.strip() == 'BATTING':\n",
    "            table = header.find_parent('table')\n",
    "\n",
    "\n",
    "\n",
    "def get_table_rows(table):\n",
    "    td_tags = table.find_all('td', )\n",
    "\n",
    "    \n",
    "def scrape_info_each_link(links):\n",
    "    for link in links:\n",
    "        try:\n",
    "            print(link)\n",
    "            web = get_page(link)\n",
    "            soup = get_soup(web)\n",
    "            print(get_stats_table(soup))\n",
    "        except:\n",
    "            print('date note here')\n",
    "\n",
    "\n",
    "\n"
   ]
  },
  {
   "cell_type": "code",
   "execution_count": null,
   "metadata": {},
   "outputs": [],
   "source": [
    "link = 'https://www.espncricinfo.com/series/indian-premier-league-2022-1298423/chennai-super-kings-vs-kolkata-knight-riders-1st-match-1304047/full-scorecard'\n",
    "web = get_page(link)\n",
    "soup = get_soup(web)\n",
    "get_stats_table"
   ]
  }
 ],
 "metadata": {
  "kernelspec": {
   "display_name": "Python 3",
   "language": "python",
   "name": "python3"
  },
  "language_info": {
   "codemirror_mode": {
    "name": "ipython",
    "version": 3
   },
   "file_extension": ".py",
   "mimetype": "text/x-python",
   "name": "python",
   "nbconvert_exporter": "python",
   "pygments_lexer": "ipython3",
   "version": "3.10.6"
  }
 },
 "nbformat": 4,
 "nbformat_minor": 2
}
